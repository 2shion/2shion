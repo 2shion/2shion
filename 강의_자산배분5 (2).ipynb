{
 "cells": [
  {
   "cell_type": "markdown",
   "metadata": {
    "id": "7Y7nc-3r6YOs"
   },
   "source": [
    "# Strategic Asset Allocation using Python\n",
    "### Efficient Frontier, Capital Allocation Line\n",
    "- CAU Business School, Chung-Ang University\n",
    "- 1 November, 2021\n",
    "- Prof. Shiyong Yoo \n",
    "\n",
    "    - 본 코드는 2020년 중앙대 경영학부의 재무관리(유시용교수)의 자산배분 실습을 위한 코드로 개발되었습니다. 출처를 밝혀주셔도 좋고, 그냥 편하게 자유롭게 사용하실 수 있습니다. "
   ]
  },
  {
   "cell_type": "code",
   "execution_count": 1,
   "metadata": {
    "id": "7sFa9V4Ohzb2"
   },
   "outputs": [],
   "source": [
    "# pip install -q finance-datareader"
   ]
  },
  {
   "cell_type": "code",
   "execution_count": 2,
   "metadata": {
    "id": "ZGb9nmICersB"
   },
   "outputs": [],
   "source": [
    "# 먼저 필요한 module을 불러오자\n",
    "import FinanceDataReader as fdr \n",
    "import seaborn as sns\n",
    "import math\n",
    "import pandas_datareader as pdr\n",
    "import numpy as np\n",
    "import pandas as pd \n",
    "import matplotlib as mpl\n",
    "import matplotlib.pyplot as plt\n",
    "%matplotlib inline\n",
    "from datetime import datetime \n",
    "import scipy.optimize as sco"
   ]
  },
  {
   "cell_type": "markdown",
   "metadata": {
    "id": "2aoPo4-wkaKH"
   },
   "source": [
    "# 전략적 자산배분 (Strategic Asset Allocation)\n",
    "### 자산 유니버스 (Asset Universe)\n",
    "### 자산군 (Asset Class)\n",
    "  * 국내 및 해외\n",
    "  * 주식, 채권, 대체투자\n",
    "  \n",
    "### 각 자산군에 대한 Benchmark Index 선정 "
   ]
  },
  {
   "cell_type": "code",
   "execution_count": 3,
   "metadata": {
    "id": "VVz7xcyzh6XP"
   },
   "outputs": [],
   "source": [
    "# 주가 데이터를 불러오자  \n",
    "# (yahoo finance open API, 공식적으로 없어졌지만, 비공식적으로 서비스는 제공되고 있음)\n",
    "\n",
    "start = datetime(2010,1,1)\n",
    "end = datetime.today()\n",
    "\n",
    "# 국내주식\n",
    "kospi = pdr.DataReader('^KS11','yahoo',start,end) # KOSPI\n",
    "# 국내 채권 수익률\n",
    "kbr = fdr.DataReader('KR3YT=RR',start,end) # 3년만기 한국국채 수익률\n",
    "\n",
    "# 해외주식\n",
    "snp = pdr.DataReader('^GSPC','yahoo',start,end) #S&P500\n",
    "# 해외채권 : Treasury Yield 10 Years (^TNX) NYBOT - NYBOT Real Time Price. Currency in USD\n",
    "tr1 = pdr.DataReader('^tnx','yahoo',start,end)\n",
    "tr2 = fdr.DataReader('US10YT=X',start,end) # 10년 만기 미국국채 수익률\n",
    "# 해외 대체 : S&P-GSCI Commodity Index Future (GD=F) CME - CME Delayed Price. Currency in USD\n",
    "com = pdr.DataReader('gd=f','yahoo',start,end)\n",
    "# 해외대체2\n",
    "gold = fdr.DataReader('ZG',start,end) # 금 선물 (ICE)\n",
    "\n",
    "# FX 환율 (1995 ~ 현재)\n",
    "wd = fdr.DataReader('USD/KRW', start,end) # 달러 원화\n",
    "\n",
    "\n",
    "# 국내 대체 : Bitcoin KRW price (Bithumbs), 2016 ~ Now\n",
    "bcw = fdr.DataReader('BTC/KRW', start,end)\n",
    "bcu = pdr.DataReader('BTC-USD','yahoo',start,end)\n",
    "\n"
   ]
  },
  {
   "cell_type": "code",
   "execution_count": 4,
   "metadata": {
    "colab": {
     "base_uri": "https://localhost:8080/",
     "height": 235
    },
    "id": "9JDvIT6zhToq",
    "outputId": "ecebd0fc-26db-47c2-d466-0e05826a8751"
   },
   "outputs": [
    {
     "data": {
      "text/html": [
       "<div>\n",
       "<style scoped>\n",
       "    .dataframe tbody tr th:only-of-type {\n",
       "        vertical-align: middle;\n",
       "    }\n",
       "\n",
       "    .dataframe tbody tr th {\n",
       "        vertical-align: top;\n",
       "    }\n",
       "\n",
       "    .dataframe thead th {\n",
       "        text-align: right;\n",
       "    }\n",
       "</style>\n",
       "<table border=\"1\" class=\"dataframe\">\n",
       "  <thead>\n",
       "    <tr style=\"text-align: right;\">\n",
       "      <th></th>\n",
       "      <th>Close</th>\n",
       "      <th>Open</th>\n",
       "      <th>High</th>\n",
       "      <th>Low</th>\n",
       "      <th>Change</th>\n",
       "    </tr>\n",
       "    <tr>\n",
       "      <th>Date</th>\n",
       "      <th></th>\n",
       "      <th></th>\n",
       "      <th></th>\n",
       "      <th></th>\n",
       "      <th></th>\n",
       "    </tr>\n",
       "  </thead>\n",
       "  <tbody>\n",
       "    <tr>\n",
       "      <th>2010-01-04</th>\n",
       "      <td>4.44</td>\n",
       "      <td>4.44</td>\n",
       "      <td>4.44</td>\n",
       "      <td>4.44</td>\n",
       "      <td>0.0023</td>\n",
       "    </tr>\n",
       "    <tr>\n",
       "      <th>2010-01-05</th>\n",
       "      <td>4.40</td>\n",
       "      <td>4.40</td>\n",
       "      <td>4.40</td>\n",
       "      <td>4.40</td>\n",
       "      <td>-0.0090</td>\n",
       "    </tr>\n",
       "    <tr>\n",
       "      <th>2010-01-06</th>\n",
       "      <td>4.44</td>\n",
       "      <td>4.44</td>\n",
       "      <td>4.44</td>\n",
       "      <td>4.44</td>\n",
       "      <td>0.0091</td>\n",
       "    </tr>\n",
       "    <tr>\n",
       "      <th>2010-01-07</th>\n",
       "      <td>4.40</td>\n",
       "      <td>4.40</td>\n",
       "      <td>4.40</td>\n",
       "      <td>4.40</td>\n",
       "      <td>-0.0090</td>\n",
       "    </tr>\n",
       "    <tr>\n",
       "      <th>2010-01-08</th>\n",
       "      <td>4.32</td>\n",
       "      <td>4.32</td>\n",
       "      <td>4.32</td>\n",
       "      <td>4.32</td>\n",
       "      <td>-0.0182</td>\n",
       "    </tr>\n",
       "  </tbody>\n",
       "</table>\n",
       "</div>"
      ],
      "text/plain": [
       "            Close  Open  High   Low  Change\n",
       "Date                                       \n",
       "2010-01-04   4.44  4.44  4.44  4.44  0.0023\n",
       "2010-01-05   4.40  4.40  4.40  4.40 -0.0090\n",
       "2010-01-06   4.44  4.44  4.44  4.44  0.0091\n",
       "2010-01-07   4.40  4.40  4.40  4.40 -0.0090\n",
       "2010-01-08   4.32  4.32  4.32  4.32 -0.0182"
      ]
     },
     "execution_count": 4,
     "metadata": {},
     "output_type": "execute_result"
    }
   ],
   "source": [
    "kbr.head()"
   ]
  },
  {
   "cell_type": "code",
   "execution_count": 5,
   "metadata": {
    "id": "6hkSRqA85CC7"
   },
   "outputs": [],
   "source": [
    "# 해외주식 \n",
    "tsl = pdr.DataReader('tsla','yahoo',start,end)\n",
    "apl = pdr.DataReader('aapl','yahoo',start,end)\n",
    "ggl = pdr.DataReader('goog','yahoo',start,end)\n",
    "nvd = pdr.DataReader('nvda','yahoo',start,end)\n"
   ]
  },
  {
   "cell_type": "code",
   "execution_count": null,
   "metadata": {
    "id": "jE3vp2cNhSi_"
   },
   "outputs": [],
   "source": []
  },
  {
   "cell_type": "code",
   "execution_count": 6,
   "metadata": {
    "colab": {
     "base_uri": "https://localhost:8080/",
     "height": 235
    },
    "id": "r2EfciZah6Zz",
    "outputId": "6d13eb61-1245-4ff0-9580-af640912d580"
   },
   "outputs": [
    {
     "data": {
      "text/html": [
       "<div>\n",
       "<style scoped>\n",
       "    .dataframe tbody tr th:only-of-type {\n",
       "        vertical-align: middle;\n",
       "    }\n",
       "\n",
       "    .dataframe tbody tr th {\n",
       "        vertical-align: top;\n",
       "    }\n",
       "\n",
       "    .dataframe thead th {\n",
       "        text-align: right;\n",
       "    }\n",
       "</style>\n",
       "<table border=\"1\" class=\"dataframe\">\n",
       "  <thead>\n",
       "    <tr style=\"text-align: right;\">\n",
       "      <th></th>\n",
       "      <th>Close</th>\n",
       "      <th>Open</th>\n",
       "      <th>High</th>\n",
       "      <th>Low</th>\n",
       "      <th>Volume</th>\n",
       "      <th>Change</th>\n",
       "    </tr>\n",
       "    <tr>\n",
       "      <th>Date</th>\n",
       "      <th></th>\n",
       "      <th></th>\n",
       "      <th></th>\n",
       "      <th></th>\n",
       "      <th></th>\n",
       "      <th></th>\n",
       "    </tr>\n",
       "  </thead>\n",
       "  <tbody>\n",
       "    <tr>\n",
       "      <th>2010-01-04</th>\n",
       "      <td>1117.7</td>\n",
       "      <td>1097.1</td>\n",
       "      <td>1122.3</td>\n",
       "      <td>1097.1</td>\n",
       "      <td>180.0</td>\n",
       "      <td>0.0205</td>\n",
       "    </tr>\n",
       "    <tr>\n",
       "      <th>2010-01-05</th>\n",
       "      <td>1118.1</td>\n",
       "      <td>1122.0</td>\n",
       "      <td>1126.5</td>\n",
       "      <td>1115.0</td>\n",
       "      <td>50.0</td>\n",
       "      <td>0.0004</td>\n",
       "    </tr>\n",
       "    <tr>\n",
       "      <th>2010-01-06</th>\n",
       "      <td>1135.9</td>\n",
       "      <td>1120.7</td>\n",
       "      <td>1139.2</td>\n",
       "      <td>1120.7</td>\n",
       "      <td>360.0</td>\n",
       "      <td>0.0159</td>\n",
       "    </tr>\n",
       "    <tr>\n",
       "      <th>2010-01-07</th>\n",
       "      <td>1133.1</td>\n",
       "      <td>1132.1</td>\n",
       "      <td>1133.0</td>\n",
       "      <td>1129.2</td>\n",
       "      <td>60.0</td>\n",
       "      <td>-0.0025</td>\n",
       "    </tr>\n",
       "    <tr>\n",
       "      <th>2010-01-08</th>\n",
       "      <td>1138.2</td>\n",
       "      <td>1124.9</td>\n",
       "      <td>1136.9</td>\n",
       "      <td>1122.7</td>\n",
       "      <td>50.0</td>\n",
       "      <td>0.0045</td>\n",
       "    </tr>\n",
       "  </tbody>\n",
       "</table>\n",
       "</div>"
      ],
      "text/plain": [
       "             Close    Open    High     Low  Volume  Change\n",
       "Date                                                      \n",
       "2010-01-04  1117.7  1097.1  1122.3  1097.1   180.0  0.0205\n",
       "2010-01-05  1118.1  1122.0  1126.5  1115.0    50.0  0.0004\n",
       "2010-01-06  1135.9  1120.7  1139.2  1120.7   360.0  0.0159\n",
       "2010-01-07  1133.1  1132.1  1133.0  1129.2    60.0 -0.0025\n",
       "2010-01-08  1138.2  1124.9  1136.9  1122.7    50.0  0.0045"
      ]
     },
     "execution_count": 6,
     "metadata": {},
     "output_type": "execute_result"
    }
   ],
   "source": [
    "gold.head() "
   ]
  },
  {
   "cell_type": "code",
   "execution_count": 7,
   "metadata": {
    "colab": {
     "base_uri": "https://localhost:8080/",
     "height": 235
    },
    "id": "YyymA5KFh6c7",
    "outputId": "413e3f2f-dfe5-4ba7-d9fe-8d992d4e7c18"
   },
   "outputs": [
    {
     "data": {
      "text/html": [
       "<div>\n",
       "<style scoped>\n",
       "    .dataframe tbody tr th:only-of-type {\n",
       "        vertical-align: middle;\n",
       "    }\n",
       "\n",
       "    .dataframe tbody tr th {\n",
       "        vertical-align: top;\n",
       "    }\n",
       "\n",
       "    .dataframe thead th {\n",
       "        text-align: right;\n",
       "    }\n",
       "</style>\n",
       "<table border=\"1\" class=\"dataframe\">\n",
       "  <thead>\n",
       "    <tr style=\"text-align: right;\">\n",
       "      <th></th>\n",
       "      <th>Close</th>\n",
       "      <th>Open</th>\n",
       "      <th>High</th>\n",
       "      <th>Low</th>\n",
       "      <th>Change</th>\n",
       "    </tr>\n",
       "    <tr>\n",
       "      <th>Date</th>\n",
       "      <th></th>\n",
       "      <th></th>\n",
       "      <th></th>\n",
       "      <th></th>\n",
       "      <th></th>\n",
       "    </tr>\n",
       "  </thead>\n",
       "  <tbody>\n",
       "    <tr>\n",
       "      <th>2010-01-04</th>\n",
       "      <td>4.44</td>\n",
       "      <td>4.44</td>\n",
       "      <td>4.44</td>\n",
       "      <td>4.44</td>\n",
       "      <td>0.0023</td>\n",
       "    </tr>\n",
       "    <tr>\n",
       "      <th>2010-01-05</th>\n",
       "      <td>4.40</td>\n",
       "      <td>4.40</td>\n",
       "      <td>4.40</td>\n",
       "      <td>4.40</td>\n",
       "      <td>-0.0090</td>\n",
       "    </tr>\n",
       "    <tr>\n",
       "      <th>2010-01-06</th>\n",
       "      <td>4.44</td>\n",
       "      <td>4.44</td>\n",
       "      <td>4.44</td>\n",
       "      <td>4.44</td>\n",
       "      <td>0.0091</td>\n",
       "    </tr>\n",
       "    <tr>\n",
       "      <th>2010-01-07</th>\n",
       "      <td>4.40</td>\n",
       "      <td>4.40</td>\n",
       "      <td>4.40</td>\n",
       "      <td>4.40</td>\n",
       "      <td>-0.0090</td>\n",
       "    </tr>\n",
       "    <tr>\n",
       "      <th>2010-01-08</th>\n",
       "      <td>4.32</td>\n",
       "      <td>4.32</td>\n",
       "      <td>4.32</td>\n",
       "      <td>4.32</td>\n",
       "      <td>-0.0182</td>\n",
       "    </tr>\n",
       "  </tbody>\n",
       "</table>\n",
       "</div>"
      ],
      "text/plain": [
       "            Close  Open  High   Low  Change\n",
       "Date                                       \n",
       "2010-01-04   4.44  4.44  4.44  4.44  0.0023\n",
       "2010-01-05   4.40  4.40  4.40  4.40 -0.0090\n",
       "2010-01-06   4.44  4.44  4.44  4.44  0.0091\n",
       "2010-01-07   4.40  4.40  4.40  4.40 -0.0090\n",
       "2010-01-08   4.32  4.32  4.32  4.32 -0.0182"
      ]
     },
     "execution_count": 7,
     "metadata": {},
     "output_type": "execute_result"
    }
   ],
   "source": [
    "kbr.head() "
   ]
  },
  {
   "cell_type": "code",
   "execution_count": 8,
   "metadata": {
    "colab": {
     "base_uri": "https://localhost:8080/",
     "height": 235
    },
    "id": "afNhcCdutUY0",
    "outputId": "b2f974c1-04c0-469d-e2fd-888b8f99fe3c"
   },
   "outputs": [
    {
     "data": {
      "text/html": [
       "<div>\n",
       "<style scoped>\n",
       "    .dataframe tbody tr th:only-of-type {\n",
       "        vertical-align: middle;\n",
       "    }\n",
       "\n",
       "    .dataframe tbody tr th {\n",
       "        vertical-align: top;\n",
       "    }\n",
       "\n",
       "    .dataframe thead th {\n",
       "        text-align: right;\n",
       "    }\n",
       "</style>\n",
       "<table border=\"1\" class=\"dataframe\">\n",
       "  <thead>\n",
       "    <tr style=\"text-align: right;\">\n",
       "      <th></th>\n",
       "      <th>Close</th>\n",
       "      <th>Open</th>\n",
       "      <th>High</th>\n",
       "      <th>Low</th>\n",
       "      <th>Change</th>\n",
       "    </tr>\n",
       "    <tr>\n",
       "      <th>Date</th>\n",
       "      <th></th>\n",
       "      <th></th>\n",
       "      <th></th>\n",
       "      <th></th>\n",
       "      <th></th>\n",
       "    </tr>\n",
       "  </thead>\n",
       "  <tbody>\n",
       "    <tr>\n",
       "      <th>2010-01-04</th>\n",
       "      <td>3.823</td>\n",
       "      <td>3.823</td>\n",
       "      <td>3.823</td>\n",
       "      <td>3.823</td>\n",
       "      <td>-0.0036</td>\n",
       "    </tr>\n",
       "    <tr>\n",
       "      <th>2010-01-05</th>\n",
       "      <td>3.763</td>\n",
       "      <td>3.763</td>\n",
       "      <td>3.763</td>\n",
       "      <td>3.763</td>\n",
       "      <td>-0.0157</td>\n",
       "    </tr>\n",
       "    <tr>\n",
       "      <th>2010-01-06</th>\n",
       "      <td>3.829</td>\n",
       "      <td>3.829</td>\n",
       "      <td>3.829</td>\n",
       "      <td>3.829</td>\n",
       "      <td>0.0175</td>\n",
       "    </tr>\n",
       "    <tr>\n",
       "      <th>2010-01-07</th>\n",
       "      <td>3.827</td>\n",
       "      <td>3.827</td>\n",
       "      <td>3.827</td>\n",
       "      <td>3.827</td>\n",
       "      <td>-0.0005</td>\n",
       "    </tr>\n",
       "    <tr>\n",
       "      <th>2010-01-08</th>\n",
       "      <td>3.836</td>\n",
       "      <td>3.836</td>\n",
       "      <td>3.836</td>\n",
       "      <td>3.836</td>\n",
       "      <td>0.0024</td>\n",
       "    </tr>\n",
       "  </tbody>\n",
       "</table>\n",
       "</div>"
      ],
      "text/plain": [
       "            Close   Open   High    Low  Change\n",
       "Date                                          \n",
       "2010-01-04  3.823  3.823  3.823  3.823 -0.0036\n",
       "2010-01-05  3.763  3.763  3.763  3.763 -0.0157\n",
       "2010-01-06  3.829  3.829  3.829  3.829  0.0175\n",
       "2010-01-07  3.827  3.827  3.827  3.827 -0.0005\n",
       "2010-01-08  3.836  3.836  3.836  3.836  0.0024"
      ]
     },
     "execution_count": 8,
     "metadata": {},
     "output_type": "execute_result"
    }
   ],
   "source": [
    "tr2.head() "
   ]
  },
  {
   "cell_type": "code",
   "execution_count": 9,
   "metadata": {
    "colab": {
     "base_uri": "https://localhost:8080/",
     "height": 235
    },
    "id": "EvDNPktZuily",
    "outputId": "ba0dcf2d-5acb-4694-e5b9-19016b351fe6"
   },
   "outputs": [
    {
     "data": {
      "text/html": [
       "<div>\n",
       "<style scoped>\n",
       "    .dataframe tbody tr th:only-of-type {\n",
       "        vertical-align: middle;\n",
       "    }\n",
       "\n",
       "    .dataframe tbody tr th {\n",
       "        vertical-align: top;\n",
       "    }\n",
       "\n",
       "    .dataframe thead th {\n",
       "        text-align: right;\n",
       "    }\n",
       "</style>\n",
       "<table border=\"1\" class=\"dataframe\">\n",
       "  <thead>\n",
       "    <tr style=\"text-align: right;\">\n",
       "      <th></th>\n",
       "      <th>High</th>\n",
       "      <th>Low</th>\n",
       "      <th>Open</th>\n",
       "      <th>Close</th>\n",
       "      <th>Volume</th>\n",
       "      <th>Adj Close</th>\n",
       "    </tr>\n",
       "    <tr>\n",
       "      <th>Date</th>\n",
       "      <th></th>\n",
       "      <th></th>\n",
       "      <th></th>\n",
       "      <th></th>\n",
       "      <th></th>\n",
       "      <th></th>\n",
       "    </tr>\n",
       "  </thead>\n",
       "  <tbody>\n",
       "    <tr>\n",
       "      <th>2014-09-16</th>\n",
       "      <td>468.174011</td>\n",
       "      <td>452.421997</td>\n",
       "      <td>465.864014</td>\n",
       "      <td>457.334015</td>\n",
       "      <td>21056800.0</td>\n",
       "      <td>457.334015</td>\n",
       "    </tr>\n",
       "    <tr>\n",
       "      <th>2014-09-17</th>\n",
       "      <td>456.859985</td>\n",
       "      <td>413.104004</td>\n",
       "      <td>456.859985</td>\n",
       "      <td>424.440002</td>\n",
       "      <td>34483200.0</td>\n",
       "      <td>424.440002</td>\n",
       "    </tr>\n",
       "    <tr>\n",
       "      <th>2014-09-18</th>\n",
       "      <td>427.834991</td>\n",
       "      <td>384.532013</td>\n",
       "      <td>424.102997</td>\n",
       "      <td>394.795990</td>\n",
       "      <td>37919700.0</td>\n",
       "      <td>394.795990</td>\n",
       "    </tr>\n",
       "    <tr>\n",
       "      <th>2014-09-19</th>\n",
       "      <td>423.295990</td>\n",
       "      <td>389.882996</td>\n",
       "      <td>394.673004</td>\n",
       "      <td>408.903992</td>\n",
       "      <td>36863600.0</td>\n",
       "      <td>408.903992</td>\n",
       "    </tr>\n",
       "    <tr>\n",
       "      <th>2014-09-20</th>\n",
       "      <td>412.425995</td>\n",
       "      <td>393.181000</td>\n",
       "      <td>408.084991</td>\n",
       "      <td>398.821014</td>\n",
       "      <td>26580100.0</td>\n",
       "      <td>398.821014</td>\n",
       "    </tr>\n",
       "  </tbody>\n",
       "</table>\n",
       "</div>"
      ],
      "text/plain": [
       "                  High         Low        Open       Close      Volume  \\\n",
       "Date                                                                     \n",
       "2014-09-16  468.174011  452.421997  465.864014  457.334015  21056800.0   \n",
       "2014-09-17  456.859985  413.104004  456.859985  424.440002  34483200.0   \n",
       "2014-09-18  427.834991  384.532013  424.102997  394.795990  37919700.0   \n",
       "2014-09-19  423.295990  389.882996  394.673004  408.903992  36863600.0   \n",
       "2014-09-20  412.425995  393.181000  408.084991  398.821014  26580100.0   \n",
       "\n",
       "             Adj Close  \n",
       "Date                    \n",
       "2014-09-16  457.334015  \n",
       "2014-09-17  424.440002  \n",
       "2014-09-18  394.795990  \n",
       "2014-09-19  408.903992  \n",
       "2014-09-20  398.821014  "
      ]
     },
     "execution_count": 9,
     "metadata": {},
     "output_type": "execute_result"
    }
   ],
   "source": [
    "bcu.head() "
   ]
  },
  {
   "cell_type": "code",
   "execution_count": 10,
   "metadata": {
    "colab": {
     "base_uri": "https://localhost:8080/",
     "height": 235
    },
    "id": "K_NxJxciuio3",
    "outputId": "d8b4cb8b-8ccc-433c-8e15-e423deb9fda4"
   },
   "outputs": [
    {
     "data": {
      "text/html": [
       "<div>\n",
       "<style scoped>\n",
       "    .dataframe tbody tr th:only-of-type {\n",
       "        vertical-align: middle;\n",
       "    }\n",
       "\n",
       "    .dataframe tbody tr th {\n",
       "        vertical-align: top;\n",
       "    }\n",
       "\n",
       "    .dataframe thead th {\n",
       "        text-align: right;\n",
       "    }\n",
       "</style>\n",
       "<table border=\"1\" class=\"dataframe\">\n",
       "  <thead>\n",
       "    <tr style=\"text-align: right;\">\n",
       "      <th></th>\n",
       "      <th>High</th>\n",
       "      <th>Low</th>\n",
       "      <th>Open</th>\n",
       "      <th>Close</th>\n",
       "      <th>Volume</th>\n",
       "      <th>Adj Close</th>\n",
       "    </tr>\n",
       "    <tr>\n",
       "      <th>Date</th>\n",
       "      <th></th>\n",
       "      <th></th>\n",
       "      <th></th>\n",
       "      <th></th>\n",
       "      <th></th>\n",
       "      <th></th>\n",
       "    </tr>\n",
       "  </thead>\n",
       "  <tbody>\n",
       "    <tr>\n",
       "      <th>2009-12-31</th>\n",
       "      <td>529.299988</td>\n",
       "      <td>524.900024</td>\n",
       "      <td>526.5</td>\n",
       "      <td>525.00</td>\n",
       "      <td>0.0</td>\n",
       "      <td>525.00</td>\n",
       "    </tr>\n",
       "    <tr>\n",
       "      <th>2010-01-04</th>\n",
       "      <td>538.900024</td>\n",
       "      <td>535.000000</td>\n",
       "      <td>535.0</td>\n",
       "      <td>539.00</td>\n",
       "      <td>0.0</td>\n",
       "      <td>539.00</td>\n",
       "    </tr>\n",
       "    <tr>\n",
       "      <th>2010-01-05</th>\n",
       "      <td>540.400024</td>\n",
       "      <td>535.799988</td>\n",
       "      <td>539.0</td>\n",
       "      <td>538.00</td>\n",
       "      <td>0.0</td>\n",
       "      <td>538.00</td>\n",
       "    </tr>\n",
       "    <tr>\n",
       "      <th>2010-01-06</th>\n",
       "      <td>548.000000</td>\n",
       "      <td>537.349976</td>\n",
       "      <td>538.0</td>\n",
       "      <td>547.50</td>\n",
       "      <td>0.0</td>\n",
       "      <td>547.50</td>\n",
       "    </tr>\n",
       "    <tr>\n",
       "      <th>2010-01-07</th>\n",
       "      <td>547.950012</td>\n",
       "      <td>542.000000</td>\n",
       "      <td>545.0</td>\n",
       "      <td>543.75</td>\n",
       "      <td>0.0</td>\n",
       "      <td>543.75</td>\n",
       "    </tr>\n",
       "  </tbody>\n",
       "</table>\n",
       "</div>"
      ],
      "text/plain": [
       "                  High         Low   Open   Close  Volume  Adj Close\n",
       "Date                                                                \n",
       "2009-12-31  529.299988  524.900024  526.5  525.00     0.0     525.00\n",
       "2010-01-04  538.900024  535.000000  535.0  539.00     0.0     539.00\n",
       "2010-01-05  540.400024  535.799988  539.0  538.00     0.0     538.00\n",
       "2010-01-06  548.000000  537.349976  538.0  547.50     0.0     547.50\n",
       "2010-01-07  547.950012  542.000000  545.0  543.75     0.0     543.75"
      ]
     },
     "execution_count": 10,
     "metadata": {},
     "output_type": "execute_result"
    }
   ],
   "source": [
    "com.head()"
   ]
  },
  {
   "cell_type": "code",
   "execution_count": 11,
   "metadata": {
    "colab": {
     "base_uri": "https://localhost:8080/",
     "height": 235
    },
    "id": "Cs4TBXLYuisF",
    "outputId": "84c23aa4-021f-4412-bddc-f657d74a8d4f"
   },
   "outputs": [
    {
     "data": {
      "text/html": [
       "<div>\n",
       "<style scoped>\n",
       "    .dataframe tbody tr th:only-of-type {\n",
       "        vertical-align: middle;\n",
       "    }\n",
       "\n",
       "    .dataframe tbody tr th {\n",
       "        vertical-align: top;\n",
       "    }\n",
       "\n",
       "    .dataframe thead th {\n",
       "        text-align: right;\n",
       "    }\n",
       "</style>\n",
       "<table border=\"1\" class=\"dataframe\">\n",
       "  <thead>\n",
       "    <tr style=\"text-align: right;\">\n",
       "      <th></th>\n",
       "      <th>Close</th>\n",
       "      <th>Open</th>\n",
       "      <th>High</th>\n",
       "      <th>Low</th>\n",
       "      <th>Change</th>\n",
       "    </tr>\n",
       "    <tr>\n",
       "      <th>Date</th>\n",
       "      <th></th>\n",
       "      <th></th>\n",
       "      <th></th>\n",
       "      <th></th>\n",
       "      <th></th>\n",
       "    </tr>\n",
       "  </thead>\n",
       "  <tbody>\n",
       "    <tr>\n",
       "      <th>2010-01-01</th>\n",
       "      <td>1166.08</td>\n",
       "      <td>1166.08</td>\n",
       "      <td>1166.08</td>\n",
       "      <td>1166.08</td>\n",
       "      <td>0.0000</td>\n",
       "    </tr>\n",
       "    <tr>\n",
       "      <th>2010-01-04</th>\n",
       "      <td>1150.00</td>\n",
       "      <td>1164.07</td>\n",
       "      <td>1164.07</td>\n",
       "      <td>1149.35</td>\n",
       "      <td>-0.0138</td>\n",
       "    </tr>\n",
       "    <tr>\n",
       "      <th>2010-01-05</th>\n",
       "      <td>1140.20</td>\n",
       "      <td>1151.00</td>\n",
       "      <td>1151.00</td>\n",
       "      <td>1136.30</td>\n",
       "      <td>-0.0085</td>\n",
       "    </tr>\n",
       "    <tr>\n",
       "      <th>2010-01-06</th>\n",
       "      <td>1129.20</td>\n",
       "      <td>1140.20</td>\n",
       "      <td>1144.70</td>\n",
       "      <td>1129.20</td>\n",
       "      <td>-0.0096</td>\n",
       "    </tr>\n",
       "    <tr>\n",
       "      <th>2010-01-07</th>\n",
       "      <td>1138.20</td>\n",
       "      <td>1129.20</td>\n",
       "      <td>1138.20</td>\n",
       "      <td>1127.80</td>\n",
       "      <td>0.0080</td>\n",
       "    </tr>\n",
       "  </tbody>\n",
       "</table>\n",
       "</div>"
      ],
      "text/plain": [
       "              Close     Open     High      Low  Change\n",
       "Date                                                  \n",
       "2010-01-01  1166.08  1166.08  1166.08  1166.08  0.0000\n",
       "2010-01-04  1150.00  1164.07  1164.07  1149.35 -0.0138\n",
       "2010-01-05  1140.20  1151.00  1151.00  1136.30 -0.0085\n",
       "2010-01-06  1129.20  1140.20  1144.70  1129.20 -0.0096\n",
       "2010-01-07  1138.20  1129.20  1138.20  1127.80  0.0080"
      ]
     },
     "execution_count": 11,
     "metadata": {},
     "output_type": "execute_result"
    }
   ],
   "source": [
    "wd.head()"
   ]
  },
  {
   "cell_type": "code",
   "execution_count": 12,
   "metadata": {
    "colab": {
     "base_uri": "https://localhost:8080/",
     "height": 235
    },
    "id": "JsBXFXl4uiul",
    "outputId": "70d55589-0b78-4c84-c701-a3bac430daf1"
   },
   "outputs": [
    {
     "data": {
      "text/html": [
       "<div>\n",
       "<style scoped>\n",
       "    .dataframe tbody tr th:only-of-type {\n",
       "        vertical-align: middle;\n",
       "    }\n",
       "\n",
       "    .dataframe tbody tr th {\n",
       "        vertical-align: top;\n",
       "    }\n",
       "\n",
       "    .dataframe thead th {\n",
       "        text-align: right;\n",
       "    }\n",
       "</style>\n",
       "<table border=\"1\" class=\"dataframe\">\n",
       "  <thead>\n",
       "    <tr style=\"text-align: right;\">\n",
       "      <th></th>\n",
       "      <th>High</th>\n",
       "      <th>Low</th>\n",
       "      <th>Open</th>\n",
       "      <th>Close</th>\n",
       "      <th>Volume</th>\n",
       "      <th>Adj Close</th>\n",
       "    </tr>\n",
       "    <tr>\n",
       "      <th>Date</th>\n",
       "      <th></th>\n",
       "      <th></th>\n",
       "      <th></th>\n",
       "      <th></th>\n",
       "      <th></th>\n",
       "      <th></th>\n",
       "    </tr>\n",
       "  </thead>\n",
       "  <tbody>\n",
       "    <tr>\n",
       "      <th>2010-01-04</th>\n",
       "      <td>1696.140015</td>\n",
       "      <td>1681.709961</td>\n",
       "      <td>1681.709961</td>\n",
       "      <td>1696.140015</td>\n",
       "      <td>296500.0</td>\n",
       "      <td>1696.140015</td>\n",
       "    </tr>\n",
       "    <tr>\n",
       "      <th>2010-01-05</th>\n",
       "      <td>1702.390015</td>\n",
       "      <td>1686.449951</td>\n",
       "      <td>1701.619995</td>\n",
       "      <td>1690.619995</td>\n",
       "      <td>408900.0</td>\n",
       "      <td>1690.619995</td>\n",
       "    </tr>\n",
       "    <tr>\n",
       "      <th>2010-01-06</th>\n",
       "      <td>1706.890015</td>\n",
       "      <td>1696.099976</td>\n",
       "      <td>1697.880005</td>\n",
       "      <td>1705.319946</td>\n",
       "      <td>426000.0</td>\n",
       "      <td>1705.319946</td>\n",
       "    </tr>\n",
       "    <tr>\n",
       "      <th>2010-01-07</th>\n",
       "      <td>1707.900024</td>\n",
       "      <td>1683.449951</td>\n",
       "      <td>1702.920044</td>\n",
       "      <td>1683.449951</td>\n",
       "      <td>462400.0</td>\n",
       "      <td>1683.449951</td>\n",
       "    </tr>\n",
       "    <tr>\n",
       "      <th>2010-01-08</th>\n",
       "      <td>1695.260010</td>\n",
       "      <td>1668.839966</td>\n",
       "      <td>1694.060059</td>\n",
       "      <td>1695.260010</td>\n",
       "      <td>380000.0</td>\n",
       "      <td>1695.260010</td>\n",
       "    </tr>\n",
       "  </tbody>\n",
       "</table>\n",
       "</div>"
      ],
      "text/plain": [
       "                   High          Low         Open        Close    Volume  \\\n",
       "Date                                                                       \n",
       "2010-01-04  1696.140015  1681.709961  1681.709961  1696.140015  296500.0   \n",
       "2010-01-05  1702.390015  1686.449951  1701.619995  1690.619995  408900.0   \n",
       "2010-01-06  1706.890015  1696.099976  1697.880005  1705.319946  426000.0   \n",
       "2010-01-07  1707.900024  1683.449951  1702.920044  1683.449951  462400.0   \n",
       "2010-01-08  1695.260010  1668.839966  1694.060059  1695.260010  380000.0   \n",
       "\n",
       "              Adj Close  \n",
       "Date                     \n",
       "2010-01-04  1696.140015  \n",
       "2010-01-05  1690.619995  \n",
       "2010-01-06  1705.319946  \n",
       "2010-01-07  1683.449951  \n",
       "2010-01-08  1695.260010  "
      ]
     },
     "execution_count": 12,
     "metadata": {},
     "output_type": "execute_result"
    }
   ],
   "source": [
    "kospi.head()"
   ]
  },
  {
   "cell_type": "markdown",
   "metadata": {
    "id": "0BcwfRVRtVaR"
   },
   "source": [
    "## 데이터 셋 모음"
   ]
  },
  {
   "cell_type": "code",
   "execution_count": 13,
   "metadata": {},
   "outputs": [
    {
     "name": "stdout",
     "output_type": "stream",
     "text": [
      "False\n",
      "True\n"
     ]
    }
   ],
   "source": [
    "# com['Adj Close'] 관련 에러 발생 : dataframe을 reindex하는 과정에서 문제가 발생\n",
    "print(com['Adj Close'].is_unique)\n",
    "com = com.drop_duplicates(subset=['Adj Close'])\n",
    "print(com['Adj Close'].is_unique)"
   ]
  },
  {
   "cell_type": "code",
   "execution_count": 14,
   "metadata": {
    "id": "FM9NJOCmh6ff"
   },
   "outputs": [],
   "source": [
    "saa = pd.DataFrame({\n",
    "    'kp': kospi['Adj Close'],\n",
    "    'snp': snp['Adj Close'],\n",
    "    'ktr': kbr['Close'],\n",
    "    'tr': tr2['Close'],\n",
    "    'cmd': com['Adj Close'],\n",
    "    'wd': wd['Close']\n",
    "    }).dropna()"
   ]
  },
  {
   "cell_type": "code",
   "execution_count": 15,
   "metadata": {},
   "outputs": [
    {
     "data": {
      "text/html": [
       "<div>\n",
       "<style scoped>\n",
       "    .dataframe tbody tr th:only-of-type {\n",
       "        vertical-align: middle;\n",
       "    }\n",
       "\n",
       "    .dataframe tbody tr th {\n",
       "        vertical-align: top;\n",
       "    }\n",
       "\n",
       "    .dataframe thead th {\n",
       "        text-align: right;\n",
       "    }\n",
       "</style>\n",
       "<table border=\"1\" class=\"dataframe\">\n",
       "  <thead>\n",
       "    <tr style=\"text-align: right;\">\n",
       "      <th></th>\n",
       "      <th>kp</th>\n",
       "      <th>snp</th>\n",
       "      <th>ktr</th>\n",
       "      <th>tr</th>\n",
       "      <th>cmd</th>\n",
       "      <th>wd</th>\n",
       "    </tr>\n",
       "    <tr>\n",
       "      <th>Date</th>\n",
       "      <th></th>\n",
       "      <th></th>\n",
       "      <th></th>\n",
       "      <th></th>\n",
       "      <th></th>\n",
       "      <th></th>\n",
       "    </tr>\n",
       "  </thead>\n",
       "  <tbody>\n",
       "    <tr>\n",
       "      <th>2010-01-04</th>\n",
       "      <td>1696.140015</td>\n",
       "      <td>1132.989990</td>\n",
       "      <td>4.44</td>\n",
       "      <td>3.823</td>\n",
       "      <td>539.000000</td>\n",
       "      <td>1150.00</td>\n",
       "    </tr>\n",
       "    <tr>\n",
       "      <th>2010-01-05</th>\n",
       "      <td>1690.619995</td>\n",
       "      <td>1136.520020</td>\n",
       "      <td>4.40</td>\n",
       "      <td>3.763</td>\n",
       "      <td>538.000000</td>\n",
       "      <td>1140.20</td>\n",
       "    </tr>\n",
       "    <tr>\n",
       "      <th>2010-01-06</th>\n",
       "      <td>1705.319946</td>\n",
       "      <td>1137.140015</td>\n",
       "      <td>4.44</td>\n",
       "      <td>3.829</td>\n",
       "      <td>547.500000</td>\n",
       "      <td>1129.20</td>\n",
       "    </tr>\n",
       "    <tr>\n",
       "      <th>2010-01-07</th>\n",
       "      <td>1683.449951</td>\n",
       "      <td>1141.689941</td>\n",
       "      <td>4.40</td>\n",
       "      <td>3.827</td>\n",
       "      <td>543.750000</td>\n",
       "      <td>1138.20</td>\n",
       "    </tr>\n",
       "    <tr>\n",
       "      <th>2010-01-08</th>\n",
       "      <td>1695.260010</td>\n",
       "      <td>1144.979980</td>\n",
       "      <td>4.32</td>\n",
       "      <td>3.836</td>\n",
       "      <td>542.450012</td>\n",
       "      <td>1128.25</td>\n",
       "    </tr>\n",
       "  </tbody>\n",
       "</table>\n",
       "</div>"
      ],
      "text/plain": [
       "                     kp          snp   ktr     tr         cmd       wd\n",
       "Date                                                                  \n",
       "2010-01-04  1696.140015  1132.989990  4.44  3.823  539.000000  1150.00\n",
       "2010-01-05  1690.619995  1136.520020  4.40  3.763  538.000000  1140.20\n",
       "2010-01-06  1705.319946  1137.140015  4.44  3.829  547.500000  1129.20\n",
       "2010-01-07  1683.449951  1141.689941  4.40  3.827  543.750000  1138.20\n",
       "2010-01-08  1695.260010  1144.979980  4.32  3.836  542.450012  1128.25"
      ]
     },
     "execution_count": 15,
     "metadata": {},
     "output_type": "execute_result"
    }
   ],
   "source": [
    "saa.head()"
   ]
  },
  {
   "cell_type": "code",
   "execution_count": 16,
   "metadata": {
    "id": "vTWV2FheyLEu"
   },
   "outputs": [],
   "source": [
    "eqt = pd.DataFrame({\n",
    "    'kp': kospi['Adj Close'],\n",
    "    'snp': snp['Adj Close'],\n",
    "    'com': com['Adj Close'],\n",
    "    'wd': wd['Close']\n",
    "}).dropna()"
   ]
  },
  {
   "cell_type": "code",
   "execution_count": 17,
   "metadata": {},
   "outputs": [
    {
     "data": {
      "text/html": [
       "<div>\n",
       "<style scoped>\n",
       "    .dataframe tbody tr th:only-of-type {\n",
       "        vertical-align: middle;\n",
       "    }\n",
       "\n",
       "    .dataframe tbody tr th {\n",
       "        vertical-align: top;\n",
       "    }\n",
       "\n",
       "    .dataframe thead th {\n",
       "        text-align: right;\n",
       "    }\n",
       "</style>\n",
       "<table border=\"1\" class=\"dataframe\">\n",
       "  <thead>\n",
       "    <tr style=\"text-align: right;\">\n",
       "      <th></th>\n",
       "      <th>kp</th>\n",
       "      <th>snp</th>\n",
       "      <th>com</th>\n",
       "      <th>wd</th>\n",
       "    </tr>\n",
       "    <tr>\n",
       "      <th>Date</th>\n",
       "      <th></th>\n",
       "      <th></th>\n",
       "      <th></th>\n",
       "      <th></th>\n",
       "    </tr>\n",
       "  </thead>\n",
       "  <tbody>\n",
       "    <tr>\n",
       "      <th>2010-01-04</th>\n",
       "      <td>1696.140015</td>\n",
       "      <td>1132.989990</td>\n",
       "      <td>539.000000</td>\n",
       "      <td>1150.00</td>\n",
       "    </tr>\n",
       "    <tr>\n",
       "      <th>2010-01-05</th>\n",
       "      <td>1690.619995</td>\n",
       "      <td>1136.520020</td>\n",
       "      <td>538.000000</td>\n",
       "      <td>1140.20</td>\n",
       "    </tr>\n",
       "    <tr>\n",
       "      <th>2010-01-06</th>\n",
       "      <td>1705.319946</td>\n",
       "      <td>1137.140015</td>\n",
       "      <td>547.500000</td>\n",
       "      <td>1129.20</td>\n",
       "    </tr>\n",
       "    <tr>\n",
       "      <th>2010-01-07</th>\n",
       "      <td>1683.449951</td>\n",
       "      <td>1141.689941</td>\n",
       "      <td>543.750000</td>\n",
       "      <td>1138.20</td>\n",
       "    </tr>\n",
       "    <tr>\n",
       "      <th>2010-01-08</th>\n",
       "      <td>1695.260010</td>\n",
       "      <td>1144.979980</td>\n",
       "      <td>542.450012</td>\n",
       "      <td>1128.25</td>\n",
       "    </tr>\n",
       "  </tbody>\n",
       "</table>\n",
       "</div>"
      ],
      "text/plain": [
       "                     kp          snp         com       wd\n",
       "Date                                                     \n",
       "2010-01-04  1696.140015  1132.989990  539.000000  1150.00\n",
       "2010-01-05  1690.619995  1136.520020  538.000000  1140.20\n",
       "2010-01-06  1705.319946  1137.140015  547.500000  1129.20\n",
       "2010-01-07  1683.449951  1141.689941  543.750000  1138.20\n",
       "2010-01-08  1695.260010  1144.979980  542.450012  1128.25"
      ]
     },
     "execution_count": 17,
     "metadata": {},
     "output_type": "execute_result"
    }
   ],
   "source": [
    "eqt.head()"
   ]
  },
  {
   "cell_type": "code",
   "execution_count": 18,
   "metadata": {
    "id": "fUmzhpeWyLHI"
   },
   "outputs": [],
   "source": [
    "# fixed-income \n",
    "fi = pd.DataFrame({\n",
    "    'ktr': kbr['Close'],\n",
    "    'tr': tr2['Close']\n",
    "}).dropna()"
   ]
  },
  {
   "cell_type": "code",
   "execution_count": 19,
   "metadata": {
    "colab": {
     "base_uri": "https://localhost:8080/",
     "height": 235
    },
    "id": "6E1HdOssx_yN",
    "outputId": "dbe87c4c-ab65-4173-a1ea-b153fb642cb0"
   },
   "outputs": [
    {
     "data": {
      "text/html": [
       "<div>\n",
       "<style scoped>\n",
       "    .dataframe tbody tr th:only-of-type {\n",
       "        vertical-align: middle;\n",
       "    }\n",
       "\n",
       "    .dataframe tbody tr th {\n",
       "        vertical-align: top;\n",
       "    }\n",
       "\n",
       "    .dataframe thead th {\n",
       "        text-align: right;\n",
       "    }\n",
       "</style>\n",
       "<table border=\"1\" class=\"dataframe\">\n",
       "  <thead>\n",
       "    <tr style=\"text-align: right;\">\n",
       "      <th></th>\n",
       "      <th>ktr</th>\n",
       "      <th>tr</th>\n",
       "    </tr>\n",
       "    <tr>\n",
       "      <th>Date</th>\n",
       "      <th></th>\n",
       "      <th></th>\n",
       "    </tr>\n",
       "  </thead>\n",
       "  <tbody>\n",
       "    <tr>\n",
       "      <th>2010-01-04</th>\n",
       "      <td>4.44</td>\n",
       "      <td>3.823</td>\n",
       "    </tr>\n",
       "    <tr>\n",
       "      <th>2010-01-05</th>\n",
       "      <td>4.40</td>\n",
       "      <td>3.763</td>\n",
       "    </tr>\n",
       "    <tr>\n",
       "      <th>2010-01-06</th>\n",
       "      <td>4.44</td>\n",
       "      <td>3.829</td>\n",
       "    </tr>\n",
       "    <tr>\n",
       "      <th>2010-01-07</th>\n",
       "      <td>4.40</td>\n",
       "      <td>3.827</td>\n",
       "    </tr>\n",
       "    <tr>\n",
       "      <th>2010-01-08</th>\n",
       "      <td>4.32</td>\n",
       "      <td>3.836</td>\n",
       "    </tr>\n",
       "  </tbody>\n",
       "</table>\n",
       "</div>"
      ],
      "text/plain": [
       "             ktr     tr\n",
       "Date                   \n",
       "2010-01-04  4.44  3.823\n",
       "2010-01-05  4.40  3.763\n",
       "2010-01-06  4.44  3.829\n",
       "2010-01-07  4.40  3.827\n",
       "2010-01-08  4.32  3.836"
      ]
     },
     "execution_count": 19,
     "metadata": {},
     "output_type": "execute_result"
    }
   ],
   "source": [
    "fi.head()"
   ]
  },
  {
   "cell_type": "code",
   "execution_count": 20,
   "metadata": {
    "colab": {
     "base_uri": "https://localhost:8080/",
     "height": 235
    },
    "id": "AZQyF74J5qbN",
    "outputId": "1016f7ff-93f3-4255-d277-26567a3e1c63"
   },
   "outputs": [
    {
     "data": {
      "text/html": [
       "<div>\n",
       "<style scoped>\n",
       "    .dataframe tbody tr th:only-of-type {\n",
       "        vertical-align: middle;\n",
       "    }\n",
       "\n",
       "    .dataframe tbody tr th {\n",
       "        vertical-align: top;\n",
       "    }\n",
       "\n",
       "    .dataframe thead th {\n",
       "        text-align: right;\n",
       "    }\n",
       "</style>\n",
       "<table border=\"1\" class=\"dataframe\">\n",
       "  <thead>\n",
       "    <tr style=\"text-align: right;\">\n",
       "      <th></th>\n",
       "      <th>apl</th>\n",
       "      <th>ggl</th>\n",
       "      <th>tsl</th>\n",
       "      <th>nvd</th>\n",
       "    </tr>\n",
       "    <tr>\n",
       "      <th>Date</th>\n",
       "      <th></th>\n",
       "      <th></th>\n",
       "      <th></th>\n",
       "      <th></th>\n",
       "    </tr>\n",
       "  </thead>\n",
       "  <tbody>\n",
       "    <tr>\n",
       "      <th>2010-06-29</th>\n",
       "      <td>7.855420</td>\n",
       "      <td>226.281845</td>\n",
       "      <td>4.778</td>\n",
       "      <td>2.407054</td>\n",
       "    </tr>\n",
       "    <tr>\n",
       "      <th>2010-06-30</th>\n",
       "      <td>7.713134</td>\n",
       "      <td>221.644226</td>\n",
       "      <td>4.766</td>\n",
       "      <td>2.345041</td>\n",
       "    </tr>\n",
       "    <tr>\n",
       "      <th>2010-07-01</th>\n",
       "      <td>7.619611</td>\n",
       "      <td>218.924423</td>\n",
       "      <td>4.392</td>\n",
       "      <td>2.384085</td>\n",
       "    </tr>\n",
       "    <tr>\n",
       "      <th>2010-07-02</th>\n",
       "      <td>7.572383</td>\n",
       "      <td>217.459900</td>\n",
       "      <td>3.840</td>\n",
       "      <td>2.354228</td>\n",
       "    </tr>\n",
       "    <tr>\n",
       "      <th>2010-07-06</th>\n",
       "      <td>7.624207</td>\n",
       "      <td>217.220810</td>\n",
       "      <td>3.222</td>\n",
       "      <td>2.328963</td>\n",
       "    </tr>\n",
       "  </tbody>\n",
       "</table>\n",
       "</div>"
      ],
      "text/plain": [
       "                 apl         ggl    tsl       nvd\n",
       "Date                                             \n",
       "2010-06-29  7.855420  226.281845  4.778  2.407054\n",
       "2010-06-30  7.713134  221.644226  4.766  2.345041\n",
       "2010-07-01  7.619611  218.924423  4.392  2.384085\n",
       "2010-07-02  7.572383  217.459900  3.840  2.354228\n",
       "2010-07-06  7.624207  217.220810  3.222  2.328963"
      ]
     },
     "execution_count": 20,
     "metadata": {},
     "output_type": "execute_result"
    }
   ],
   "source": [
    "stk = pd.DataFrame({\n",
    "    'apl': apl['Adj Close'],\n",
    "    'ggl': ggl['Adj Close'],\n",
    "    'tsl': tsl['Adj Close'],\n",
    "    'nvd': nvd['Adj Close']\n",
    "}).dropna()\n",
    "stk.head()"
   ]
  },
  {
   "cell_type": "code",
   "execution_count": 21,
   "metadata": {
    "colab": {
     "base_uri": "https://localhost:8080/",
     "height": 235
    },
    "id": "s6oiquD66NpY",
    "outputId": "fda48f68-6d6f-47a7-e417-ce0394706794"
   },
   "outputs": [
    {
     "data": {
      "text/html": [
       "<div>\n",
       "<style scoped>\n",
       "    .dataframe tbody tr th:only-of-type {\n",
       "        vertical-align: middle;\n",
       "    }\n",
       "\n",
       "    .dataframe tbody tr th {\n",
       "        vertical-align: top;\n",
       "    }\n",
       "\n",
       "    .dataframe thead th {\n",
       "        text-align: right;\n",
       "    }\n",
       "</style>\n",
       "<table border=\"1\" class=\"dataframe\">\n",
       "  <thead>\n",
       "    <tr style=\"text-align: right;\">\n",
       "      <th></th>\n",
       "      <th>apl</th>\n",
       "      <th>ggl</th>\n",
       "      <th>tsl</th>\n",
       "      <th>nva</th>\n",
       "    </tr>\n",
       "    <tr>\n",
       "      <th>Date</th>\n",
       "      <th></th>\n",
       "      <th></th>\n",
       "      <th></th>\n",
       "      <th></th>\n",
       "    </tr>\n",
       "  </thead>\n",
       "  <tbody>\n",
       "    <tr>\n",
       "      <th>2010-06-29</th>\n",
       "      <td>NaN</td>\n",
       "      <td>NaN</td>\n",
       "      <td>NaN</td>\n",
       "      <td>NaN</td>\n",
       "    </tr>\n",
       "    <tr>\n",
       "      <th>2010-06-30</th>\n",
       "      <td>-1.827913</td>\n",
       "      <td>-2.070781</td>\n",
       "      <td>-0.251469</td>\n",
       "      <td>-2.610087</td>\n",
       "    </tr>\n",
       "    <tr>\n",
       "      <th>2010-07-01</th>\n",
       "      <td>-1.219934</td>\n",
       "      <td>-1.234694</td>\n",
       "      <td>-8.172259</td>\n",
       "      <td>1.651288</td>\n",
       "    </tr>\n",
       "    <tr>\n",
       "      <th>2010-07-02</th>\n",
       "      <td>-0.621742</td>\n",
       "      <td>-0.671211</td>\n",
       "      <td>-13.431241</td>\n",
       "      <td>-1.260281</td>\n",
       "    </tr>\n",
       "    <tr>\n",
       "      <th>2010-07-06</th>\n",
       "      <td>0.682039</td>\n",
       "      <td>-0.110007</td>\n",
       "      <td>-17.547010</td>\n",
       "      <td>-1.078985</td>\n",
       "    </tr>\n",
       "  </tbody>\n",
       "</table>\n",
       "</div>"
      ],
      "text/plain": [
       "                 apl       ggl        tsl       nva\n",
       "Date                                               \n",
       "2010-06-29       NaN       NaN        NaN       NaN\n",
       "2010-06-30 -1.827913 -2.070781  -0.251469 -2.610087\n",
       "2010-07-01 -1.219934 -1.234694  -8.172259  1.651288\n",
       "2010-07-02 -0.621742 -0.671211 -13.431241 -1.260281\n",
       "2010-07-06  0.682039 -0.110007 -17.547010 -1.078985"
      ]
     },
     "execution_count": 21,
     "metadata": {},
     "output_type": "execute_result"
    }
   ],
   "source": [
    "# 연속시간 수익률 (로그 차분)\n",
    "rst= (np.log(stk) - np.log(stk.shift(1)) )*100\n",
    "rst.columns=['apl','ggl','tsl' ,'nva']\n",
    "rst.head()"
   ]
  },
  {
   "cell_type": "code",
   "execution_count": 22,
   "metadata": {
    "colab": {
     "base_uri": "https://localhost:8080/",
     "height": 235
    },
    "id": "MtiDxbiyyrxG",
    "outputId": "af2b20db-a969-4220-b82d-00b9ae1cf89b"
   },
   "outputs": [
    {
     "data": {
      "text/html": [
       "<div>\n",
       "<style scoped>\n",
       "    .dataframe tbody tr th:only-of-type {\n",
       "        vertical-align: middle;\n",
       "    }\n",
       "\n",
       "    .dataframe tbody tr th {\n",
       "        vertical-align: top;\n",
       "    }\n",
       "\n",
       "    .dataframe thead th {\n",
       "        text-align: right;\n",
       "    }\n",
       "</style>\n",
       "<table border=\"1\" class=\"dataframe\">\n",
       "  <thead>\n",
       "    <tr style=\"text-align: right;\">\n",
       "      <th></th>\n",
       "      <th>r_kp</th>\n",
       "      <th>r_sp</th>\n",
       "      <th>r_com</th>\n",
       "      <th>r_wd</th>\n",
       "    </tr>\n",
       "    <tr>\n",
       "      <th>Date</th>\n",
       "      <th></th>\n",
       "      <th></th>\n",
       "      <th></th>\n",
       "      <th></th>\n",
       "    </tr>\n",
       "  </thead>\n",
       "  <tbody>\n",
       "    <tr>\n",
       "      <th>2010-01-04</th>\n",
       "      <td>NaN</td>\n",
       "      <td>NaN</td>\n",
       "      <td>NaN</td>\n",
       "      <td>NaN</td>\n",
       "    </tr>\n",
       "    <tr>\n",
       "      <th>2010-01-05</th>\n",
       "      <td>-0.325977</td>\n",
       "      <td>0.311083</td>\n",
       "      <td>-0.185701</td>\n",
       "      <td>-0.855826</td>\n",
       "    </tr>\n",
       "    <tr>\n",
       "      <th>2010-01-06</th>\n",
       "      <td>0.865742</td>\n",
       "      <td>0.054537</td>\n",
       "      <td>1.750390</td>\n",
       "      <td>-0.969427</td>\n",
       "    </tr>\n",
       "    <tr>\n",
       "      <th>2010-01-07</th>\n",
       "      <td>-1.290751</td>\n",
       "      <td>0.399322</td>\n",
       "      <td>-0.687288</td>\n",
       "      <td>0.793865</td>\n",
       "    </tr>\n",
       "    <tr>\n",
       "      <th>2010-01-08</th>\n",
       "      <td>0.699090</td>\n",
       "      <td>0.287758</td>\n",
       "      <td>-0.239364</td>\n",
       "      <td>-0.878031</td>\n",
       "    </tr>\n",
       "  </tbody>\n",
       "</table>\n",
       "</div>"
      ],
      "text/plain": [
       "                r_kp      r_sp     r_com      r_wd\n",
       "Date                                              \n",
       "2010-01-04       NaN       NaN       NaN       NaN\n",
       "2010-01-05 -0.325977  0.311083 -0.185701 -0.855826\n",
       "2010-01-06  0.865742  0.054537  1.750390 -0.969427\n",
       "2010-01-07 -1.290751  0.399322 -0.687288  0.793865\n",
       "2010-01-08  0.699090  0.287758 -0.239364 -0.878031"
      ]
     },
     "execution_count": 22,
     "metadata": {},
     "output_type": "execute_result"
    }
   ],
   "source": [
    "# 연속시간 수익률 (로그 차분)\n",
    "rtn= (np.log(eqt) - np.log(eqt.shift(1)) )*100\n",
    "rtn.columns=['r_kp','r_sp','r_com' ,'r_wd']\n",
    "rtn.head()"
   ]
  },
  {
   "cell_type": "code",
   "execution_count": 23,
   "metadata": {
    "id": "4-n1xOJRzGX8"
   },
   "outputs": [],
   "source": [
    "# No FX hedge \n",
    "rtn['r_sp_nh'] =rtn['r_sp']+rtn['r_wd']\n",
    "rtn['com_nh'] =rtn['r_com']+rtn['r_wd']\n",
    "\n",
    "# Full FX hedge \n",
    "rtn['r_sp_fh'] =rtn['r_sp']\n"
   ]
  },
  {
   "cell_type": "code",
   "execution_count": 24,
   "metadata": {
    "colab": {
     "base_uri": "https://localhost:8080/",
     "height": 235
    },
    "id": "Wt4S0LkF0dv3",
    "outputId": "78e5930d-7639-452a-be0f-567e3b23c395"
   },
   "outputs": [
    {
     "data": {
      "text/html": [
       "<div>\n",
       "<style scoped>\n",
       "    .dataframe tbody tr th:only-of-type {\n",
       "        vertical-align: middle;\n",
       "    }\n",
       "\n",
       "    .dataframe tbody tr th {\n",
       "        vertical-align: top;\n",
       "    }\n",
       "\n",
       "    .dataframe thead th {\n",
       "        text-align: right;\n",
       "    }\n",
       "</style>\n",
       "<table border=\"1\" class=\"dataframe\">\n",
       "  <thead>\n",
       "    <tr style=\"text-align: right;\">\n",
       "      <th></th>\n",
       "      <th>r_kp</th>\n",
       "      <th>r_sp</th>\n",
       "      <th>r_com</th>\n",
       "      <th>r_wd</th>\n",
       "      <th>r_sp_nh</th>\n",
       "      <th>com_nh</th>\n",
       "      <th>r_sp_fh</th>\n",
       "    </tr>\n",
       "    <tr>\n",
       "      <th>Date</th>\n",
       "      <th></th>\n",
       "      <th></th>\n",
       "      <th></th>\n",
       "      <th></th>\n",
       "      <th></th>\n",
       "      <th></th>\n",
       "      <th></th>\n",
       "    </tr>\n",
       "  </thead>\n",
       "  <tbody>\n",
       "    <tr>\n",
       "      <th>2010-01-04</th>\n",
       "      <td>NaN</td>\n",
       "      <td>NaN</td>\n",
       "      <td>NaN</td>\n",
       "      <td>NaN</td>\n",
       "      <td>NaN</td>\n",
       "      <td>NaN</td>\n",
       "      <td>NaN</td>\n",
       "    </tr>\n",
       "    <tr>\n",
       "      <th>2010-01-05</th>\n",
       "      <td>-0.325977</td>\n",
       "      <td>0.311083</td>\n",
       "      <td>-0.185701</td>\n",
       "      <td>-0.855826</td>\n",
       "      <td>-0.544742</td>\n",
       "      <td>-1.041527</td>\n",
       "      <td>0.311083</td>\n",
       "    </tr>\n",
       "    <tr>\n",
       "      <th>2010-01-06</th>\n",
       "      <td>0.865742</td>\n",
       "      <td>0.054537</td>\n",
       "      <td>1.750390</td>\n",
       "      <td>-0.969427</td>\n",
       "      <td>-0.914890</td>\n",
       "      <td>0.780963</td>\n",
       "      <td>0.054537</td>\n",
       "    </tr>\n",
       "    <tr>\n",
       "      <th>2010-01-07</th>\n",
       "      <td>-1.290751</td>\n",
       "      <td>0.399322</td>\n",
       "      <td>-0.687288</td>\n",
       "      <td>0.793865</td>\n",
       "      <td>1.193187</td>\n",
       "      <td>0.106577</td>\n",
       "      <td>0.399322</td>\n",
       "    </tr>\n",
       "    <tr>\n",
       "      <th>2010-01-08</th>\n",
       "      <td>0.699090</td>\n",
       "      <td>0.287758</td>\n",
       "      <td>-0.239364</td>\n",
       "      <td>-0.878031</td>\n",
       "      <td>-0.590272</td>\n",
       "      <td>-1.117395</td>\n",
       "      <td>0.287758</td>\n",
       "    </tr>\n",
       "  </tbody>\n",
       "</table>\n",
       "</div>"
      ],
      "text/plain": [
       "                r_kp      r_sp     r_com      r_wd   r_sp_nh    com_nh  \\\n",
       "Date                                                                     \n",
       "2010-01-04       NaN       NaN       NaN       NaN       NaN       NaN   \n",
       "2010-01-05 -0.325977  0.311083 -0.185701 -0.855826 -0.544742 -1.041527   \n",
       "2010-01-06  0.865742  0.054537  1.750390 -0.969427 -0.914890  0.780963   \n",
       "2010-01-07 -1.290751  0.399322 -0.687288  0.793865  1.193187  0.106577   \n",
       "2010-01-08  0.699090  0.287758 -0.239364 -0.878031 -0.590272 -1.117395   \n",
       "\n",
       "             r_sp_fh  \n",
       "Date                  \n",
       "2010-01-04       NaN  \n",
       "2010-01-05  0.311083  \n",
       "2010-01-06  0.054537  \n",
       "2010-01-07  0.399322  \n",
       "2010-01-08  0.287758  "
      ]
     },
     "execution_count": 24,
     "metadata": {},
     "output_type": "execute_result"
    }
   ],
   "source": [
    "rtn.head()"
   ]
  },
  {
   "cell_type": "code",
   "execution_count": null,
   "metadata": {
    "id": "ufMrtxvW0fuW"
   },
   "outputs": [],
   "source": []
  },
  {
   "cell_type": "markdown",
   "metadata": {
    "id": "ihDv6BWe3UzI"
   },
   "source": [
    "## 이자율 일별 수익률로 전환"
   ]
  },
  {
   "cell_type": "code",
   "execution_count": 25,
   "metadata": {
    "id": "Quo5tb5j3X5x"
   },
   "outputs": [],
   "source": [
    "fid = ( (1+fi/100)**(1/360) -1 )*100"
   ]
  },
  {
   "cell_type": "code",
   "execution_count": 26,
   "metadata": {
    "colab": {
     "base_uri": "https://localhost:8080/",
     "height": 235
    },
    "id": "23Die8Y33pfn",
    "outputId": "17dcb3d9-dced-4a0f-fbfa-b12f21177515"
   },
   "outputs": [
    {
     "data": {
      "text/html": [
       "<div>\n",
       "<style scoped>\n",
       "    .dataframe tbody tr th:only-of-type {\n",
       "        vertical-align: middle;\n",
       "    }\n",
       "\n",
       "    .dataframe tbody tr th {\n",
       "        vertical-align: top;\n",
       "    }\n",
       "\n",
       "    .dataframe thead th {\n",
       "        text-align: right;\n",
       "    }\n",
       "</style>\n",
       "<table border=\"1\" class=\"dataframe\">\n",
       "  <thead>\n",
       "    <tr style=\"text-align: right;\">\n",
       "      <th></th>\n",
       "      <th>ktr</th>\n",
       "      <th>tr</th>\n",
       "    </tr>\n",
       "    <tr>\n",
       "      <th>Date</th>\n",
       "      <th></th>\n",
       "      <th></th>\n",
       "    </tr>\n",
       "  </thead>\n",
       "  <tbody>\n",
       "    <tr>\n",
       "      <th>2010-01-04</th>\n",
       "      <td>0.012068</td>\n",
       "      <td>0.010422</td>\n",
       "    </tr>\n",
       "    <tr>\n",
       "      <th>2010-01-05</th>\n",
       "      <td>0.011962</td>\n",
       "      <td>0.010261</td>\n",
       "    </tr>\n",
       "    <tr>\n",
       "      <th>2010-01-06</th>\n",
       "      <td>0.012068</td>\n",
       "      <td>0.010438</td>\n",
       "    </tr>\n",
       "    <tr>\n",
       "      <th>2010-01-07</th>\n",
       "      <td>0.011962</td>\n",
       "      <td>0.010433</td>\n",
       "    </tr>\n",
       "    <tr>\n",
       "      <th>2010-01-08</th>\n",
       "      <td>0.011749</td>\n",
       "      <td>0.010457</td>\n",
       "    </tr>\n",
       "  </tbody>\n",
       "</table>\n",
       "</div>"
      ],
      "text/plain": [
       "                 ktr        tr\n",
       "Date                          \n",
       "2010-01-04  0.012068  0.010422\n",
       "2010-01-05  0.011962  0.010261\n",
       "2010-01-06  0.012068  0.010438\n",
       "2010-01-07  0.011962  0.010433\n",
       "2010-01-08  0.011749  0.010457"
      ]
     },
     "execution_count": 26,
     "metadata": {},
     "output_type": "execute_result"
    }
   ],
   "source": [
    "fid.head()"
   ]
  },
  {
   "cell_type": "code",
   "execution_count": null,
   "metadata": {
    "id": "w777F6RM6Ai2"
   },
   "outputs": [],
   "source": []
  },
  {
   "cell_type": "markdown",
   "metadata": {
    "id": "R66S5aXS81_a"
   },
   "source": [
    "## 월별 수익률 데이터로 전환"
   ]
  },
  {
   "cell_type": "code",
   "execution_count": 27,
   "metadata": {
    "id": "ceSJNzcE6AlN"
   },
   "outputs": [],
   "source": [
    "# 자산배분의 데이터 주기가 월별이랍니다. \n",
    "# 그래서 일별 주가수익률의 자료를 월별 주가수익률 자료로 환산시켜줍니다. \n",
    "\n",
    "rs= rtn.resample('M').sum()\n",
    "rb =fid.resample('M').sum() \n",
    "\n",
    "ri = rst.resample('M').sum()\n",
    "# 변수 이름 단순화 \n",
    "rs.columns=['kp', 'sp', 'com', 'wd', 'sp_nh', 'sp_fh', 'com_nh'] \n",
    "\n",
    "\n",
    "# date format: yyyy-mm-dd ==> yyyy-mm\n",
    "rs = rs.to_period('M')\n",
    "rb = rb.to_period('M')\n",
    "ri = ri.to_period('M')\n"
   ]
  },
  {
   "cell_type": "code",
   "execution_count": 28,
   "metadata": {
    "colab": {
     "base_uri": "https://localhost:8080/",
     "height": 235
    },
    "id": "ikxcuuCb6caJ",
    "outputId": "88b0783f-cadb-48c9-90e4-458b3e5d3978"
   },
   "outputs": [
    {
     "data": {
      "text/html": [
       "<div>\n",
       "<style scoped>\n",
       "    .dataframe tbody tr th:only-of-type {\n",
       "        vertical-align: middle;\n",
       "    }\n",
       "\n",
       "    .dataframe tbody tr th {\n",
       "        vertical-align: top;\n",
       "    }\n",
       "\n",
       "    .dataframe thead th {\n",
       "        text-align: right;\n",
       "    }\n",
       "</style>\n",
       "<table border=\"1\" class=\"dataframe\">\n",
       "  <thead>\n",
       "    <tr style=\"text-align: right;\">\n",
       "      <th></th>\n",
       "      <th>kp</th>\n",
       "      <th>sp</th>\n",
       "      <th>com</th>\n",
       "      <th>wd</th>\n",
       "      <th>sp_nh</th>\n",
       "      <th>sp_fh</th>\n",
       "      <th>com_nh</th>\n",
       "    </tr>\n",
       "    <tr>\n",
       "      <th>Date</th>\n",
       "      <th></th>\n",
       "      <th></th>\n",
       "      <th></th>\n",
       "      <th></th>\n",
       "      <th></th>\n",
       "      <th></th>\n",
       "      <th></th>\n",
       "    </tr>\n",
       "  </thead>\n",
       "  <tbody>\n",
       "    <tr>\n",
       "      <th>2010-01</th>\n",
       "      <td>-5.683383</td>\n",
       "      <td>-5.359121</td>\n",
       "      <td>-10.268425</td>\n",
       "      <td>0.770934</td>\n",
       "      <td>-4.588187</td>\n",
       "      <td>-9.497492</td>\n",
       "      <td>-5.359121</td>\n",
       "    </tr>\n",
       "    <tr>\n",
       "      <th>2010-02</th>\n",
       "      <td>-0.491091</td>\n",
       "      <td>2.811474</td>\n",
       "      <td>6.342643</td>\n",
       "      <td>0.094873</td>\n",
       "      <td>2.906347</td>\n",
       "      <td>6.437516</td>\n",
       "      <td>2.811474</td>\n",
       "    </tr>\n",
       "    <tr>\n",
       "      <th>2010-03</th>\n",
       "      <td>5.929499</td>\n",
       "      <td>6.036840</td>\n",
       "      <td>1.103393</td>\n",
       "      <td>-2.134692</td>\n",
       "      <td>3.902148</td>\n",
       "      <td>-1.031299</td>\n",
       "      <td>6.036840</td>\n",
       "    </tr>\n",
       "    <tr>\n",
       "      <th>2010-04</th>\n",
       "      <td>2.887595</td>\n",
       "      <td>1.141579</td>\n",
       "      <td>4.523970</td>\n",
       "      <td>-2.406533</td>\n",
       "      <td>-1.264954</td>\n",
       "      <td>2.117437</td>\n",
       "      <td>1.141579</td>\n",
       "    </tr>\n",
       "    <tr>\n",
       "      <th>2010-05</th>\n",
       "      <td>-7.064055</td>\n",
       "      <td>-8.553157</td>\n",
       "      <td>-11.334693</td>\n",
       "      <td>7.513844</td>\n",
       "      <td>-1.039314</td>\n",
       "      <td>-3.820849</td>\n",
       "      <td>-8.553157</td>\n",
       "    </tr>\n",
       "  </tbody>\n",
       "</table>\n",
       "</div>"
      ],
      "text/plain": [
       "               kp        sp        com        wd     sp_nh     sp_fh    com_nh\n",
       "Date                                                                          \n",
       "2010-01 -5.683383 -5.359121 -10.268425  0.770934 -4.588187 -9.497492 -5.359121\n",
       "2010-02 -0.491091  2.811474   6.342643  0.094873  2.906347  6.437516  2.811474\n",
       "2010-03  5.929499  6.036840   1.103393 -2.134692  3.902148 -1.031299  6.036840\n",
       "2010-04  2.887595  1.141579   4.523970 -2.406533 -1.264954  2.117437  1.141579\n",
       "2010-05 -7.064055 -8.553157 -11.334693  7.513844 -1.039314 -3.820849 -8.553157"
      ]
     },
     "execution_count": 28,
     "metadata": {},
     "output_type": "execute_result"
    }
   ],
   "source": [
    "rs.head()"
   ]
  },
  {
   "cell_type": "code",
   "execution_count": 29,
   "metadata": {
    "colab": {
     "base_uri": "https://localhost:8080/",
     "height": 235
    },
    "id": "JkIUiMpC6q4k",
    "outputId": "8950e550-4f26-49c7-f686-8576ffe93da0"
   },
   "outputs": [
    {
     "data": {
      "text/html": [
       "<div>\n",
       "<style scoped>\n",
       "    .dataframe tbody tr th:only-of-type {\n",
       "        vertical-align: middle;\n",
       "    }\n",
       "\n",
       "    .dataframe tbody tr th {\n",
       "        vertical-align: top;\n",
       "    }\n",
       "\n",
       "    .dataframe thead th {\n",
       "        text-align: right;\n",
       "    }\n",
       "</style>\n",
       "<table border=\"1\" class=\"dataframe\">\n",
       "  <thead>\n",
       "    <tr style=\"text-align: right;\">\n",
       "      <th></th>\n",
       "      <th>ktr</th>\n",
       "      <th>tr</th>\n",
       "    </tr>\n",
       "    <tr>\n",
       "      <th>Date</th>\n",
       "      <th></th>\n",
       "      <th></th>\n",
       "    </tr>\n",
       "  </thead>\n",
       "  <tbody>\n",
       "    <tr>\n",
       "      <th>2010-01</th>\n",
       "      <td>0.221914</td>\n",
       "      <td>0.192317</td>\n",
       "    </tr>\n",
       "    <tr>\n",
       "      <th>2010-02</th>\n",
       "      <td>0.216483</td>\n",
       "      <td>0.190721</td>\n",
       "    </tr>\n",
       "    <tr>\n",
       "      <th>2010-03</th>\n",
       "      <td>0.236031</td>\n",
       "      <td>0.223508</td>\n",
       "    </tr>\n",
       "    <tr>\n",
       "      <th>2010-04</th>\n",
       "      <td>0.227126</td>\n",
       "      <td>0.229280</td>\n",
       "    </tr>\n",
       "    <tr>\n",
       "      <th>2010-05</th>\n",
       "      <td>0.191519</td>\n",
       "      <td>0.176703</td>\n",
       "    </tr>\n",
       "  </tbody>\n",
       "</table>\n",
       "</div>"
      ],
      "text/plain": [
       "              ktr        tr\n",
       "Date                       \n",
       "2010-01  0.221914  0.192317\n",
       "2010-02  0.216483  0.190721\n",
       "2010-03  0.236031  0.223508\n",
       "2010-04  0.227126  0.229280\n",
       "2010-05  0.191519  0.176703"
      ]
     },
     "execution_count": 29,
     "metadata": {},
     "output_type": "execute_result"
    }
   ],
   "source": [
    "rb.head()"
   ]
  },
  {
   "cell_type": "code",
   "execution_count": 30,
   "metadata": {
    "colab": {
     "base_uri": "https://localhost:8080/",
     "height": 235
    },
    "id": "lCsRzO3739DP",
    "outputId": "b59aa1e2-9c9a-43bb-cb10-c2342e18820a"
   },
   "outputs": [
    {
     "data": {
      "text/html": [
       "<div>\n",
       "<style scoped>\n",
       "    .dataframe tbody tr th:only-of-type {\n",
       "        vertical-align: middle;\n",
       "    }\n",
       "\n",
       "    .dataframe tbody tr th {\n",
       "        vertical-align: top;\n",
       "    }\n",
       "\n",
       "    .dataframe thead th {\n",
       "        text-align: right;\n",
       "    }\n",
       "</style>\n",
       "<table border=\"1\" class=\"dataframe\">\n",
       "  <thead>\n",
       "    <tr style=\"text-align: right;\">\n",
       "      <th></th>\n",
       "      <th>kp</th>\n",
       "      <th>sp</th>\n",
       "      <th>com</th>\n",
       "      <th>wd</th>\n",
       "      <th>sp_nh</th>\n",
       "      <th>sp_fh</th>\n",
       "      <th>com_nh</th>\n",
       "      <th>ktr</th>\n",
       "      <th>tr</th>\n",
       "      <th>tr_nh</th>\n",
       "    </tr>\n",
       "    <tr>\n",
       "      <th>Date</th>\n",
       "      <th></th>\n",
       "      <th></th>\n",
       "      <th></th>\n",
       "      <th></th>\n",
       "      <th></th>\n",
       "      <th></th>\n",
       "      <th></th>\n",
       "      <th></th>\n",
       "      <th></th>\n",
       "      <th></th>\n",
       "    </tr>\n",
       "  </thead>\n",
       "  <tbody>\n",
       "    <tr>\n",
       "      <th>2010-01</th>\n",
       "      <td>-5.683383</td>\n",
       "      <td>-5.359121</td>\n",
       "      <td>-10.268425</td>\n",
       "      <td>0.770934</td>\n",
       "      <td>-4.588187</td>\n",
       "      <td>-9.497492</td>\n",
       "      <td>-5.359121</td>\n",
       "      <td>0.221914</td>\n",
       "      <td>0.192317</td>\n",
       "      <td>0.963251</td>\n",
       "    </tr>\n",
       "    <tr>\n",
       "      <th>2010-02</th>\n",
       "      <td>-0.491091</td>\n",
       "      <td>2.811474</td>\n",
       "      <td>6.342643</td>\n",
       "      <td>0.094873</td>\n",
       "      <td>2.906347</td>\n",
       "      <td>6.437516</td>\n",
       "      <td>2.811474</td>\n",
       "      <td>0.216483</td>\n",
       "      <td>0.190721</td>\n",
       "      <td>0.285593</td>\n",
       "    </tr>\n",
       "    <tr>\n",
       "      <th>2010-03</th>\n",
       "      <td>5.929499</td>\n",
       "      <td>6.036840</td>\n",
       "      <td>1.103393</td>\n",
       "      <td>-2.134692</td>\n",
       "      <td>3.902148</td>\n",
       "      <td>-1.031299</td>\n",
       "      <td>6.036840</td>\n",
       "      <td>0.236031</td>\n",
       "      <td>0.223508</td>\n",
       "      <td>-1.911184</td>\n",
       "    </tr>\n",
       "    <tr>\n",
       "      <th>2010-04</th>\n",
       "      <td>2.887595</td>\n",
       "      <td>1.141579</td>\n",
       "      <td>4.523970</td>\n",
       "      <td>-2.406533</td>\n",
       "      <td>-1.264954</td>\n",
       "      <td>2.117437</td>\n",
       "      <td>1.141579</td>\n",
       "      <td>0.227126</td>\n",
       "      <td>0.229280</td>\n",
       "      <td>-2.177253</td>\n",
       "    </tr>\n",
       "    <tr>\n",
       "      <th>2010-05</th>\n",
       "      <td>-7.064055</td>\n",
       "      <td>-8.553157</td>\n",
       "      <td>-11.334693</td>\n",
       "      <td>7.513844</td>\n",
       "      <td>-1.039314</td>\n",
       "      <td>-3.820849</td>\n",
       "      <td>-8.553157</td>\n",
       "      <td>0.191519</td>\n",
       "      <td>0.176703</td>\n",
       "      <td>7.690547</td>\n",
       "    </tr>\n",
       "  </tbody>\n",
       "</table>\n",
       "</div>"
      ],
      "text/plain": [
       "               kp        sp        com        wd     sp_nh     sp_fh  \\\n",
       "Date                                                                   \n",
       "2010-01 -5.683383 -5.359121 -10.268425  0.770934 -4.588187 -9.497492   \n",
       "2010-02 -0.491091  2.811474   6.342643  0.094873  2.906347  6.437516   \n",
       "2010-03  5.929499  6.036840   1.103393 -2.134692  3.902148 -1.031299   \n",
       "2010-04  2.887595  1.141579   4.523970 -2.406533 -1.264954  2.117437   \n",
       "2010-05 -7.064055 -8.553157 -11.334693  7.513844 -1.039314 -3.820849   \n",
       "\n",
       "           com_nh       ktr        tr     tr_nh  \n",
       "Date                                             \n",
       "2010-01 -5.359121  0.221914  0.192317  0.963251  \n",
       "2010-02  2.811474  0.216483  0.190721  0.285593  \n",
       "2010-03  6.036840  0.236031  0.223508 -1.911184  \n",
       "2010-04  1.141579  0.227126  0.229280 -2.177253  \n",
       "2010-05 -8.553157  0.191519  0.176703  7.690547  "
      ]
     },
     "execution_count": 30,
     "metadata": {},
     "output_type": "execute_result"
    }
   ],
   "source": [
    "# 가격 데이터와 수익률 데이트를 머지해주어요. \n",
    "\n",
    "aa = pd.merge(rs,rb, left_index=True, right_index=True, how='inner')\n",
    "\n",
    "# No FX hedge 해외채권\n",
    "aa['tr_nh'] =aa['tr'] +aa['wd']\n",
    "aa.head()"
   ]
  },
  {
   "cell_type": "code",
   "execution_count": 31,
   "metadata": {
    "colab": {
     "base_uri": "https://localhost:8080/",
     "height": 235
    },
    "id": "NQP24SfZ6Ani",
    "outputId": "25b92f49-bcd5-4453-85e3-90dbdc0d0d0a"
   },
   "outputs": [
    {
     "data": {
      "text/html": [
       "<div>\n",
       "<style scoped>\n",
       "    .dataframe tbody tr th:only-of-type {\n",
       "        vertical-align: middle;\n",
       "    }\n",
       "\n",
       "    .dataframe tbody tr th {\n",
       "        vertical-align: top;\n",
       "    }\n",
       "\n",
       "    .dataframe thead th {\n",
       "        text-align: right;\n",
       "    }\n",
       "</style>\n",
       "<table border=\"1\" class=\"dataframe\">\n",
       "  <thead>\n",
       "    <tr style=\"text-align: right;\">\n",
       "      <th></th>\n",
       "      <th>kp</th>\n",
       "      <th>ktr</th>\n",
       "      <th>sp_nh</th>\n",
       "      <th>tr_nh</th>\n",
       "      <th>com_nh</th>\n",
       "    </tr>\n",
       "    <tr>\n",
       "      <th>Date</th>\n",
       "      <th></th>\n",
       "      <th></th>\n",
       "      <th></th>\n",
       "      <th></th>\n",
       "      <th></th>\n",
       "    </tr>\n",
       "  </thead>\n",
       "  <tbody>\n",
       "    <tr>\n",
       "      <th>2010-01</th>\n",
       "      <td>-5.683383</td>\n",
       "      <td>0.221914</td>\n",
       "      <td>-4.588187</td>\n",
       "      <td>0.963251</td>\n",
       "      <td>-5.359121</td>\n",
       "    </tr>\n",
       "    <tr>\n",
       "      <th>2010-02</th>\n",
       "      <td>-0.491091</td>\n",
       "      <td>0.216483</td>\n",
       "      <td>2.906347</td>\n",
       "      <td>0.285593</td>\n",
       "      <td>2.811474</td>\n",
       "    </tr>\n",
       "    <tr>\n",
       "      <th>2010-03</th>\n",
       "      <td>5.929499</td>\n",
       "      <td>0.236031</td>\n",
       "      <td>3.902148</td>\n",
       "      <td>-1.911184</td>\n",
       "      <td>6.036840</td>\n",
       "    </tr>\n",
       "    <tr>\n",
       "      <th>2010-04</th>\n",
       "      <td>2.887595</td>\n",
       "      <td>0.227126</td>\n",
       "      <td>-1.264954</td>\n",
       "      <td>-2.177253</td>\n",
       "      <td>1.141579</td>\n",
       "    </tr>\n",
       "    <tr>\n",
       "      <th>2010-05</th>\n",
       "      <td>-7.064055</td>\n",
       "      <td>0.191519</td>\n",
       "      <td>-1.039314</td>\n",
       "      <td>7.690547</td>\n",
       "      <td>-8.553157</td>\n",
       "    </tr>\n",
       "  </tbody>\n",
       "</table>\n",
       "</div>"
      ],
      "text/plain": [
       "               kp       ktr     sp_nh     tr_nh    com_nh\n",
       "Date                                                     \n",
       "2010-01 -5.683383  0.221914 -4.588187  0.963251 -5.359121\n",
       "2010-02 -0.491091  0.216483  2.906347  0.285593  2.811474\n",
       "2010-03  5.929499  0.236031  3.902148 -1.911184  6.036840\n",
       "2010-04  2.887595  0.227126 -1.264954 -2.177253  1.141579\n",
       "2010-05 -7.064055  0.191519 -1.039314  7.690547 -8.553157"
      ]
     },
     "execution_count": 31,
     "metadata": {},
     "output_type": "execute_result"
    }
   ],
   "source": [
    "aanh=aa[['kp', 'ktr', 'sp_nh','tr_nh','com_nh' ]]\n",
    "aanh.head()"
   ]
  },
  {
   "cell_type": "code",
   "execution_count": 32,
   "metadata": {
    "colab": {
     "base_uri": "https://localhost:8080/",
     "height": 235
    },
    "id": "QU5swR3w7hE4",
    "outputId": "575104fe-0e6f-4d5f-ee15-61c5f26f2a80"
   },
   "outputs": [
    {
     "data": {
      "text/html": [
       "<div>\n",
       "<style scoped>\n",
       "    .dataframe tbody tr th:only-of-type {\n",
       "        vertical-align: middle;\n",
       "    }\n",
       "\n",
       "    .dataframe tbody tr th {\n",
       "        vertical-align: top;\n",
       "    }\n",
       "\n",
       "    .dataframe thead th {\n",
       "        text-align: right;\n",
       "    }\n",
       "</style>\n",
       "<table border=\"1\" class=\"dataframe\">\n",
       "  <thead>\n",
       "    <tr style=\"text-align: right;\">\n",
       "      <th></th>\n",
       "      <th>kp</th>\n",
       "      <th>ktr</th>\n",
       "      <th>sp</th>\n",
       "      <th>tr</th>\n",
       "      <th>com</th>\n",
       "    </tr>\n",
       "    <tr>\n",
       "      <th>Date</th>\n",
       "      <th></th>\n",
       "      <th></th>\n",
       "      <th></th>\n",
       "      <th></th>\n",
       "      <th></th>\n",
       "    </tr>\n",
       "  </thead>\n",
       "  <tbody>\n",
       "    <tr>\n",
       "      <th>2010-01</th>\n",
       "      <td>-5.683383</td>\n",
       "      <td>0.221914</td>\n",
       "      <td>-5.359121</td>\n",
       "      <td>0.192317</td>\n",
       "      <td>-10.268425</td>\n",
       "    </tr>\n",
       "    <tr>\n",
       "      <th>2010-02</th>\n",
       "      <td>-0.491091</td>\n",
       "      <td>0.216483</td>\n",
       "      <td>2.811474</td>\n",
       "      <td>0.190721</td>\n",
       "      <td>6.342643</td>\n",
       "    </tr>\n",
       "    <tr>\n",
       "      <th>2010-03</th>\n",
       "      <td>5.929499</td>\n",
       "      <td>0.236031</td>\n",
       "      <td>6.036840</td>\n",
       "      <td>0.223508</td>\n",
       "      <td>1.103393</td>\n",
       "    </tr>\n",
       "    <tr>\n",
       "      <th>2010-04</th>\n",
       "      <td>2.887595</td>\n",
       "      <td>0.227126</td>\n",
       "      <td>1.141579</td>\n",
       "      <td>0.229280</td>\n",
       "      <td>4.523970</td>\n",
       "    </tr>\n",
       "    <tr>\n",
       "      <th>2010-05</th>\n",
       "      <td>-7.064055</td>\n",
       "      <td>0.191519</td>\n",
       "      <td>-8.553157</td>\n",
       "      <td>0.176703</td>\n",
       "      <td>-11.334693</td>\n",
       "    </tr>\n",
       "  </tbody>\n",
       "</table>\n",
       "</div>"
      ],
      "text/plain": [
       "               kp       ktr        sp        tr        com\n",
       "Date                                                      \n",
       "2010-01 -5.683383  0.221914 -5.359121  0.192317 -10.268425\n",
       "2010-02 -0.491091  0.216483  2.811474  0.190721   6.342643\n",
       "2010-03  5.929499  0.236031  6.036840  0.223508   1.103393\n",
       "2010-04  2.887595  0.227126  1.141579  0.229280   4.523970\n",
       "2010-05 -7.064055  0.191519 -8.553157  0.176703 -11.334693"
      ]
     },
     "execution_count": 32,
     "metadata": {},
     "output_type": "execute_result"
    }
   ],
   "source": [
    "aafh=aa[['kp', 'ktr', 'sp','tr','com' ]]\n",
    "aafh.head()"
   ]
  },
  {
   "cell_type": "code",
   "execution_count": 33,
   "metadata": {
    "id": "U2GEw3BXgp3i"
   },
   "outputs": [],
   "source": [
    "data=aanh"
   ]
  },
  {
   "cell_type": "code",
   "execution_count": null,
   "metadata": {
    "id": "8uh0wXbxhvwO"
   },
   "outputs": [],
   "source": []
  },
  {
   "cell_type": "markdown",
   "metadata": {
    "id": "XbRhtjYdhw5k"
   },
   "source": [
    "### 월별 누적 수익률"
   ]
  },
  {
   "cell_type": "code",
   "execution_count": 34,
   "metadata": {
    "colab": {
     "base_uri": "https://localhost:8080/",
     "height": 235
    },
    "id": "SfuIQmW2h0y7",
    "outputId": "bedf3b6e-1550-4081-ac16-feaa46c3a80b"
   },
   "outputs": [
    {
     "data": {
      "text/html": [
       "<div>\n",
       "<style scoped>\n",
       "    .dataframe tbody tr th:only-of-type {\n",
       "        vertical-align: middle;\n",
       "    }\n",
       "\n",
       "    .dataframe tbody tr th {\n",
       "        vertical-align: top;\n",
       "    }\n",
       "\n",
       "    .dataframe thead th {\n",
       "        text-align: right;\n",
       "    }\n",
       "</style>\n",
       "<table border=\"1\" class=\"dataframe\">\n",
       "  <thead>\n",
       "    <tr style=\"text-align: right;\">\n",
       "      <th></th>\n",
       "      <th>kp</th>\n",
       "      <th>ktr</th>\n",
       "      <th>sp_nh</th>\n",
       "      <th>tr_nh</th>\n",
       "      <th>com_nh</th>\n",
       "    </tr>\n",
       "    <tr>\n",
       "      <th>Date</th>\n",
       "      <th></th>\n",
       "      <th></th>\n",
       "      <th></th>\n",
       "      <th></th>\n",
       "      <th></th>\n",
       "    </tr>\n",
       "  </thead>\n",
       "  <tbody>\n",
       "    <tr>\n",
       "      <th>2010-01</th>\n",
       "      <td>0.943166</td>\n",
       "      <td>1.002219</td>\n",
       "      <td>0.954118</td>\n",
       "      <td>1.009633</td>\n",
       "      <td>0.946409</td>\n",
       "    </tr>\n",
       "    <tr>\n",
       "      <th>2010-02</th>\n",
       "      <td>0.938534</td>\n",
       "      <td>1.004389</td>\n",
       "      <td>0.981848</td>\n",
       "      <td>1.012516</td>\n",
       "      <td>0.973017</td>\n",
       "    </tr>\n",
       "    <tr>\n",
       "      <th>2010-03</th>\n",
       "      <td>0.994185</td>\n",
       "      <td>1.006759</td>\n",
       "      <td>1.020161</td>\n",
       "      <td>0.993165</td>\n",
       "      <td>1.031756</td>\n",
       "    </tr>\n",
       "    <tr>\n",
       "      <th>2010-04</th>\n",
       "      <td>1.022893</td>\n",
       "      <td>1.009046</td>\n",
       "      <td>1.007257</td>\n",
       "      <td>0.971541</td>\n",
       "      <td>1.043535</td>\n",
       "    </tr>\n",
       "    <tr>\n",
       "      <th>2010-05</th>\n",
       "      <td>0.950635</td>\n",
       "      <td>1.010979</td>\n",
       "      <td>0.996788</td>\n",
       "      <td>1.046258</td>\n",
       "      <td>0.954279</td>\n",
       "    </tr>\n",
       "  </tbody>\n",
       "</table>\n",
       "</div>"
      ],
      "text/plain": [
       "               kp       ktr     sp_nh     tr_nh    com_nh\n",
       "Date                                                     \n",
       "2010-01  0.943166  1.002219  0.954118  1.009633  0.946409\n",
       "2010-02  0.938534  1.004389  0.981848  1.012516  0.973017\n",
       "2010-03  0.994185  1.006759  1.020161  0.993165  1.031756\n",
       "2010-04  1.022893  1.009046  1.007257  0.971541  1.043535\n",
       "2010-05  0.950635  1.010979  0.996788  1.046258  0.954279"
      ]
     },
     "execution_count": 34,
     "metadata": {},
     "output_type": "execute_result"
    }
   ],
   "source": [
    "cr_nh =(1+data/100).cumprod()\n",
    "cr_nh.head()"
   ]
  },
  {
   "cell_type": "code",
   "execution_count": 35,
   "metadata": {
    "colab": {
     "base_uri": "https://localhost:8080/",
     "height": 388
    },
    "id": "OOyStodAh01s",
    "outputId": "50bd61ea-c5b4-4815-a991-00843d1ab7c6"
   },
   "outputs": [
    {
     "data": {
      "image/png": "[encoded data removed]",
      "text/plain": [
       "<Figure size 576x432 with 1 Axes>"
      ]
     },
     "metadata": {
      "needs_background": "light"
     },
     "output_type": "display_data"
    }
   ],
   "source": [
    "cr_nh.plot(figsize=(8,6))\n",
    "plt.legend(loc=2);"
   ]
  },
  {
   "cell_type": "code",
   "execution_count": 36,
   "metadata": {
    "colab": {
     "base_uri": "https://localhost:8080/",
     "height": 352
    },
    "id": "G4RJhWCo8epH",
    "outputId": "31ee5812-ba13-42e0-bac0-e69088d25786"
   },
   "outputs": [
    {
     "data": {
      "text/plain": [
       "<AxesSubplot:xlabel='Date'>"
      ]
     },
     "execution_count": 36,
     "metadata": {},
     "output_type": "execute_result"
    },
    {
     "data": {
      "image/png": "[encoded data removed]",
      "text/plain": [
       "<Figure size 576x360 with 1 Axes>"
      ]
     },
     "metadata": {
      "needs_background": "light"
     },
     "output_type": "display_data"
    }
   ],
   "source": [
    "data.plot(figsize=(8, 5), grid=True)"
   ]
  },
  {
   "cell_type": "markdown",
   "metadata": {
    "id": "PaxlzEeV7z2g"
   },
   "source": [
    "### 개별 주식 (해외)"
   ]
  },
  {
   "cell_type": "code",
   "execution_count": 37,
   "metadata": {
    "colab": {
     "base_uri": "https://localhost:8080/",
     "height": 235
    },
    "id": "w3TTM2GG7JYQ",
    "outputId": "93bfb691-d8a5-4191-eea2-51bc444c86c1"
   },
   "outputs": [
    {
     "data": {
      "text/html": [
       "<div>\n",
       "<style scoped>\n",
       "    .dataframe tbody tr th:only-of-type {\n",
       "        vertical-align: middle;\n",
       "    }\n",
       "\n",
       "    .dataframe tbody tr th {\n",
       "        vertical-align: top;\n",
       "    }\n",
       "\n",
       "    .dataframe thead th {\n",
       "        text-align: right;\n",
       "    }\n",
       "</style>\n",
       "<table border=\"1\" class=\"dataframe\">\n",
       "  <thead>\n",
       "    <tr style=\"text-align: right;\">\n",
       "      <th></th>\n",
       "      <th>apl</th>\n",
       "      <th>ggl</th>\n",
       "      <th>tsl</th>\n",
       "      <th>nva</th>\n",
       "    </tr>\n",
       "    <tr>\n",
       "      <th>Date</th>\n",
       "      <th></th>\n",
       "      <th></th>\n",
       "      <th></th>\n",
       "      <th></th>\n",
       "    </tr>\n",
       "  </thead>\n",
       "  <tbody>\n",
       "    <tr>\n",
       "      <th>2010-06</th>\n",
       "      <td>0.981721</td>\n",
       "      <td>0.979292</td>\n",
       "      <td>0.997485</td>\n",
       "      <td>0.973899</td>\n",
       "    </tr>\n",
       "    <tr>\n",
       "      <th>2010-07</th>\n",
       "      <td>1.003796</td>\n",
       "      <td>1.063392</td>\n",
       "      <td>0.819716</td>\n",
       "      <td>0.871394</td>\n",
       "    </tr>\n",
       "    <tr>\n",
       "      <th>2010-08</th>\n",
       "      <td>0.947006</td>\n",
       "      <td>0.984118</td>\n",
       "      <td>0.800584</td>\n",
       "      <td>0.884569</td>\n",
       "    </tr>\n",
       "    <tr>\n",
       "      <th>2010-09</th>\n",
       "      <td>1.093433</td>\n",
       "      <td>1.137257</td>\n",
       "      <td>0.837921</td>\n",
       "      <td>1.083281</td>\n",
       "    </tr>\n",
       "    <tr>\n",
       "      <th>2010-10</th>\n",
       "      <td>1.157890</td>\n",
       "      <td>1.313082</td>\n",
       "      <td>0.894663</td>\n",
       "      <td>1.114365</td>\n",
       "    </tr>\n",
       "  </tbody>\n",
       "</table>\n",
       "</div>"
      ],
      "text/plain": [
       "              apl       ggl       tsl       nva\n",
       "Date                                           \n",
       "2010-06  0.981721  0.979292  0.997485  0.973899\n",
       "2010-07  1.003796  1.063392  0.819716  0.871394\n",
       "2010-08  0.947006  0.984118  0.800584  0.884569\n",
       "2010-09  1.093433  1.137257  0.837921  1.083281\n",
       "2010-10  1.157890  1.313082  0.894663  1.114365"
      ]
     },
     "execution_count": 37,
     "metadata": {},
     "output_type": "execute_result"
    }
   ],
   "source": [
    "cri =(1+ri/100).cumprod()\n",
    "cri.head()"
   ]
  },
  {
   "cell_type": "code",
   "execution_count": 38,
   "metadata": {
    "colab": {
     "base_uri": "https://localhost:8080/",
     "height": 388
    },
    "id": "tCUFNpEs7JbR",
    "outputId": "7a704f98-1779-4986-dd7c-028bfe419882"
   },
   "outputs": [
    {
     "data": {
      "image/png": "[encoded data removed]",
      "text/plain": [
       "<Figure size 576x432 with 1 Axes>"
      ]
     },
     "metadata": {
      "needs_background": "light"
     },
     "output_type": "display_data"
    }
   ],
   "source": [
    "cri.plot(figsize=(8,6))\n",
    "plt.legend(loc=2);"
   ]
  },
  {
   "cell_type": "code",
   "execution_count": null,
   "metadata": {
    "id": "QTCWf5Vk7JeD"
   },
   "outputs": [],
   "source": []
  },
  {
   "cell_type": "markdown",
   "metadata": {
    "id": "rhFuNjX1tkZP"
   },
   "source": [
    "## 국내채권 (ktr), 해외 대체(com_nh) 제외"
   ]
  },
  {
   "cell_type": "code",
   "execution_count": 39,
   "metadata": {
    "colab": {
     "base_uri": "https://localhost:8080/",
     "height": 235
    },
    "id": "RK8ZArsBtimp",
    "outputId": "a35c1dcf-a06f-48fc-97d8-860169a1e9d3"
   },
   "outputs": [
    {
     "data": {
      "text/html": [
       "<div>\n",
       "<style scoped>\n",
       "    .dataframe tbody tr th:only-of-type {\n",
       "        vertical-align: middle;\n",
       "    }\n",
       "\n",
       "    .dataframe tbody tr th {\n",
       "        vertical-align: top;\n",
       "    }\n",
       "\n",
       "    .dataframe thead th {\n",
       "        text-align: right;\n",
       "    }\n",
       "</style>\n",
       "<table border=\"1\" class=\"dataframe\">\n",
       "  <thead>\n",
       "    <tr style=\"text-align: right;\">\n",
       "      <th></th>\n",
       "      <th>kp</th>\n",
       "      <th>sp_nh</th>\n",
       "      <th>tr_nh</th>\n",
       "    </tr>\n",
       "    <tr>\n",
       "      <th>Date</th>\n",
       "      <th></th>\n",
       "      <th></th>\n",
       "      <th></th>\n",
       "    </tr>\n",
       "  </thead>\n",
       "  <tbody>\n",
       "    <tr>\n",
       "      <th>2010-01</th>\n",
       "      <td>-5.683383</td>\n",
       "      <td>-4.588187</td>\n",
       "      <td>0.963251</td>\n",
       "    </tr>\n",
       "    <tr>\n",
       "      <th>2010-02</th>\n",
       "      <td>-0.491091</td>\n",
       "      <td>2.906347</td>\n",
       "      <td>0.285593</td>\n",
       "    </tr>\n",
       "    <tr>\n",
       "      <th>2010-03</th>\n",
       "      <td>5.929499</td>\n",
       "      <td>3.902148</td>\n",
       "      <td>-1.911184</td>\n",
       "    </tr>\n",
       "    <tr>\n",
       "      <th>2010-04</th>\n",
       "      <td>2.887595</td>\n",
       "      <td>-1.264954</td>\n",
       "      <td>-2.177253</td>\n",
       "    </tr>\n",
       "    <tr>\n",
       "      <th>2010-05</th>\n",
       "      <td>-7.064055</td>\n",
       "      <td>-1.039314</td>\n",
       "      <td>7.690547</td>\n",
       "    </tr>\n",
       "  </tbody>\n",
       "</table>\n",
       "</div>"
      ],
      "text/plain": [
       "               kp     sp_nh     tr_nh\n",
       "Date                                 \n",
       "2010-01 -5.683383 -4.588187  0.963251\n",
       "2010-02 -0.491091  2.906347  0.285593\n",
       "2010-03  5.929499  3.902148 -1.911184\n",
       "2010-04  2.887595 -1.264954 -2.177253\n",
       "2010-05 -7.064055 -1.039314  7.690547"
      ]
     },
     "execution_count": 39,
     "metadata": {},
     "output_type": "execute_result"
    }
   ],
   "source": [
    "data=aa[['kp', 'sp_nh','tr_nh' ]]\n",
    "data.head()"
   ]
  },
  {
   "cell_type": "code",
   "execution_count": 40,
   "metadata": {
    "colab": {
     "base_uri": "https://localhost:8080/",
     "height": 235
    },
    "id": "tSs8eimL1pQ3",
    "outputId": "52d3863c-e417-42b0-a3e0-7a611c36bfe6"
   },
   "outputs": [
    {
     "data": {
      "text/html": [
       "<div>\n",
       "<style scoped>\n",
       "    .dataframe tbody tr th:only-of-type {\n",
       "        vertical-align: middle;\n",
       "    }\n",
       "\n",
       "    .dataframe tbody tr th {\n",
       "        vertical-align: top;\n",
       "    }\n",
       "\n",
       "    .dataframe thead th {\n",
       "        text-align: right;\n",
       "    }\n",
       "</style>\n",
       "<table border=\"1\" class=\"dataframe\">\n",
       "  <thead>\n",
       "    <tr style=\"text-align: right;\">\n",
       "      <th></th>\n",
       "      <th>kp</th>\n",
       "      <th>sp_nh</th>\n",
       "      <th>tr_nh</th>\n",
       "    </tr>\n",
       "    <tr>\n",
       "      <th>Date</th>\n",
       "      <th></th>\n",
       "      <th></th>\n",
       "      <th></th>\n",
       "    </tr>\n",
       "  </thead>\n",
       "  <tbody>\n",
       "    <tr>\n",
       "      <th>2010-01</th>\n",
       "      <td>0.943166</td>\n",
       "      <td>0.954118</td>\n",
       "      <td>1.009633</td>\n",
       "    </tr>\n",
       "    <tr>\n",
       "      <th>2010-02</th>\n",
       "      <td>0.938534</td>\n",
       "      <td>0.981848</td>\n",
       "      <td>1.012516</td>\n",
       "    </tr>\n",
       "    <tr>\n",
       "      <th>2010-03</th>\n",
       "      <td>0.994185</td>\n",
       "      <td>1.020161</td>\n",
       "      <td>0.993165</td>\n",
       "    </tr>\n",
       "    <tr>\n",
       "      <th>2010-04</th>\n",
       "      <td>1.022893</td>\n",
       "      <td>1.007257</td>\n",
       "      <td>0.971541</td>\n",
       "    </tr>\n",
       "    <tr>\n",
       "      <th>2010-05</th>\n",
       "      <td>0.950635</td>\n",
       "      <td>0.996788</td>\n",
       "      <td>1.046258</td>\n",
       "    </tr>\n",
       "  </tbody>\n",
       "</table>\n",
       "</div>"
      ],
      "text/plain": [
       "               kp     sp_nh     tr_nh\n",
       "Date                                 \n",
       "2010-01  0.943166  0.954118  1.009633\n",
       "2010-02  0.938534  0.981848  1.012516\n",
       "2010-03  0.994185  1.020161  0.993165\n",
       "2010-04  1.022893  1.007257  0.971541\n",
       "2010-05  0.950635  0.996788  1.046258"
      ]
     },
     "execution_count": 40,
     "metadata": {},
     "output_type": "execute_result"
    }
   ],
   "source": [
    "cr_nh =(1+data/100).cumprod()\n",
    "cr_nh.head()"
   ]
  },
  {
   "cell_type": "code",
   "execution_count": 41,
   "metadata": {
    "colab": {
     "base_uri": "https://localhost:8080/",
     "height": 388
    },
    "id": "zMDVdal71pWQ",
    "outputId": "a3926dc8-9bcb-4b78-f7ea-e144d6d6052a"
   },
   "outputs": [
    {
     "data": {
      "image/png": "[encoded data removed]",
      "text/plain": [
       "<Figure size 576x432 with 1 Axes>"
      ]
     },
     "metadata": {
      "needs_background": "light"
     },
     "output_type": "display_data"
    }
   ],
   "source": [
    "cr_nh.plot(figsize=(8,6))\n",
    "plt.legend(loc=2);"
   ]
  },
  {
   "cell_type": "code",
   "execution_count": 42,
   "metadata": {
    "colab": {
     "base_uri": "https://localhost:8080/"
    },
    "id": "l5QCzIV7h030",
    "outputId": "b1b9c66d-377b-44f0-f90a-f4e623427959"
   },
   "outputs": [
    {
     "data": {
      "text/plain": [
       "kp       0.394673\n",
       "sp_nh    1.002408\n",
       "tr_nh    0.149758\n",
       "dtype: float64"
      ]
     },
     "execution_count": 42,
     "metadata": {},
     "output_type": "execute_result"
    }
   ],
   "source": [
    "data.mean()"
   ]
  },
  {
   "cell_type": "code",
   "execution_count": 43,
   "metadata": {
    "colab": {
     "base_uri": "https://localhost:8080/",
     "height": 142
    },
    "id": "kVTtCUXhguhP",
    "outputId": "6f1f4ceb-e29e-462f-adfa-5570e80056dd"
   },
   "outputs": [
    {
     "data": {
      "text/html": [
       "<div>\n",
       "<style scoped>\n",
       "    .dataframe tbody tr th:only-of-type {\n",
       "        vertical-align: middle;\n",
       "    }\n",
       "\n",
       "    .dataframe tbody tr th {\n",
       "        vertical-align: top;\n",
       "    }\n",
       "\n",
       "    .dataframe thead th {\n",
       "        text-align: right;\n",
       "    }\n",
       "</style>\n",
       "<table border=\"1\" class=\"dataframe\">\n",
       "  <thead>\n",
       "    <tr style=\"text-align: right;\">\n",
       "      <th></th>\n",
       "      <th>kp</th>\n",
       "      <th>sp_nh</th>\n",
       "      <th>tr_nh</th>\n",
       "    </tr>\n",
       "  </thead>\n",
       "  <tbody>\n",
       "    <tr>\n",
       "      <th>kp</th>\n",
       "      <td>23.042078</td>\n",
       "      <td>10.841273</td>\n",
       "      <td>-6.444487</td>\n",
       "    </tr>\n",
       "    <tr>\n",
       "      <th>sp_nh</th>\n",
       "      <td>10.841273</td>\n",
       "      <td>19.337136</td>\n",
       "      <td>0.457435</td>\n",
       "    </tr>\n",
       "    <tr>\n",
       "      <th>tr_nh</th>\n",
       "      <td>-6.444487</td>\n",
       "      <td>0.457435</td>\n",
       "      <td>5.882917</td>\n",
       "    </tr>\n",
       "  </tbody>\n",
       "</table>\n",
       "</div>"
      ],
      "text/plain": [
       "              kp      sp_nh     tr_nh\n",
       "kp     23.042078  10.841273 -6.444487\n",
       "sp_nh  10.841273  19.337136  0.457435\n",
       "tr_nh  -6.444487   0.457435  5.882917"
      ]
     },
     "execution_count": 43,
     "metadata": {},
     "output_type": "execute_result"
    }
   ],
   "source": [
    "data.cov()"
   ]
  },
  {
   "cell_type": "code",
   "execution_count": 44,
   "metadata": {
    "colab": {
     "base_uri": "https://localhost:8080/",
     "height": 142
    },
    "id": "Nx7JigfKjr0k",
    "outputId": "995f2e7d-021e-40b0-f4f8-b3e77200cfbc"
   },
   "outputs": [
    {
     "data": {
      "text/html": [
       "<div>\n",
       "<style scoped>\n",
       "    .dataframe tbody tr th:only-of-type {\n",
       "        vertical-align: middle;\n",
       "    }\n",
       "\n",
       "    .dataframe tbody tr th {\n",
       "        vertical-align: top;\n",
       "    }\n",
       "\n",
       "    .dataframe thead th {\n",
       "        text-align: right;\n",
       "    }\n",
       "</style>\n",
       "<table border=\"1\" class=\"dataframe\">\n",
       "  <thead>\n",
       "    <tr style=\"text-align: right;\">\n",
       "      <th></th>\n",
       "      <th>kp</th>\n",
       "      <th>sp_nh</th>\n",
       "      <th>tr_nh</th>\n",
       "    </tr>\n",
       "  </thead>\n",
       "  <tbody>\n",
       "    <tr>\n",
       "      <th>kp</th>\n",
       "      <td>1.000000</td>\n",
       "      <td>0.513598</td>\n",
       "      <td>-0.553517</td>\n",
       "    </tr>\n",
       "    <tr>\n",
       "      <th>sp_nh</th>\n",
       "      <td>0.513598</td>\n",
       "      <td>1.000000</td>\n",
       "      <td>0.042888</td>\n",
       "    </tr>\n",
       "    <tr>\n",
       "      <th>tr_nh</th>\n",
       "      <td>-0.553517</td>\n",
       "      <td>0.042888</td>\n",
       "      <td>1.000000</td>\n",
       "    </tr>\n",
       "  </tbody>\n",
       "</table>\n",
       "</div>"
      ],
      "text/plain": [
       "             kp     sp_nh     tr_nh\n",
       "kp     1.000000  0.513598 -0.553517\n",
       "sp_nh  0.513598  1.000000  0.042888\n",
       "tr_nh -0.553517  0.042888  1.000000"
      ]
     },
     "execution_count": 44,
     "metadata": {},
     "output_type": "execute_result"
    }
   ],
   "source": [
    "data.corr()"
   ]
  },
  {
   "cell_type": "markdown",
   "metadata": {
    "id": "B3AZcA8e0Lqw"
   },
   "source": [
    "### 포트폴리오 최적화 (portfolio optimization) 기초"
   ]
  },
  {
   "cell_type": "code",
   "execution_count": 45,
   "metadata": {
    "colab": {
     "base_uri": "https://localhost:8080/"
    },
    "id": "6HKyv9QU0KCH",
    "outputId": "7ba3a506-a2b6-4a00-cc09-6c29b3b0b53d"
   },
   "outputs": [
    {
     "data": {
      "text/plain": [
       "3"
      ]
     },
     "execution_count": 45,
     "metadata": {},
     "output_type": "execute_result"
    }
   ],
   "source": [
    "rmon = data/100 # 월별 수익률, % 단위 제거 \n",
    "noa=np.size(rmon,1)\n",
    "noa"
   ]
  },
  {
   "cell_type": "code",
   "execution_count": 46,
   "metadata": {
    "colab": {
     "base_uri": "https://localhost:8080/",
     "height": 235
    },
    "id": "esqxbdq34ay1",
    "outputId": "1bdd07a2-8fe0-4e90-ec53-4b18d330d163"
   },
   "outputs": [
    {
     "data": {
      "text/html": [
       "<div>\n",
       "<style scoped>\n",
       "    .dataframe tbody tr th:only-of-type {\n",
       "        vertical-align: middle;\n",
       "    }\n",
       "\n",
       "    .dataframe tbody tr th {\n",
       "        vertical-align: top;\n",
       "    }\n",
       "\n",
       "    .dataframe thead th {\n",
       "        text-align: right;\n",
       "    }\n",
       "</style>\n",
       "<table border=\"1\" class=\"dataframe\">\n",
       "  <thead>\n",
       "    <tr style=\"text-align: right;\">\n",
       "      <th></th>\n",
       "      <th>kp</th>\n",
       "      <th>sp_nh</th>\n",
       "      <th>tr_nh</th>\n",
       "    </tr>\n",
       "    <tr>\n",
       "      <th>Date</th>\n",
       "      <th></th>\n",
       "      <th></th>\n",
       "      <th></th>\n",
       "    </tr>\n",
       "  </thead>\n",
       "  <tbody>\n",
       "    <tr>\n",
       "      <th>2010-01</th>\n",
       "      <td>-0.056834</td>\n",
       "      <td>-0.045882</td>\n",
       "      <td>0.009633</td>\n",
       "    </tr>\n",
       "    <tr>\n",
       "      <th>2010-02</th>\n",
       "      <td>-0.004911</td>\n",
       "      <td>0.029063</td>\n",
       "      <td>0.002856</td>\n",
       "    </tr>\n",
       "    <tr>\n",
       "      <th>2010-03</th>\n",
       "      <td>0.059295</td>\n",
       "      <td>0.039021</td>\n",
       "      <td>-0.019112</td>\n",
       "    </tr>\n",
       "    <tr>\n",
       "      <th>2010-04</th>\n",
       "      <td>0.028876</td>\n",
       "      <td>-0.012650</td>\n",
       "      <td>-0.021773</td>\n",
       "    </tr>\n",
       "    <tr>\n",
       "      <th>2010-05</th>\n",
       "      <td>-0.070641</td>\n",
       "      <td>-0.010393</td>\n",
       "      <td>0.076905</td>\n",
       "    </tr>\n",
       "  </tbody>\n",
       "</table>\n",
       "</div>"
      ],
      "text/plain": [
       "               kp     sp_nh     tr_nh\n",
       "Date                                 \n",
       "2010-01 -0.056834 -0.045882  0.009633\n",
       "2010-02 -0.004911  0.029063  0.002856\n",
       "2010-03  0.059295  0.039021 -0.019112\n",
       "2010-04  0.028876 -0.012650 -0.021773\n",
       "2010-05 -0.070641 -0.010393  0.076905"
      ]
     },
     "execution_count": 46,
     "metadata": {},
     "output_type": "execute_result"
    }
   ],
   "source": [
    "rmon.head()"
   ]
  },
  {
   "cell_type": "code",
   "execution_count": 47,
   "metadata": {
    "colab": {
     "base_uri": "https://localhost:8080/"
    },
    "id": "NFVS1EbW4lvf",
    "outputId": "cf119fa4-7f3c-471a-8d06-de5cb6b58554"
   },
   "outputs": [
    {
     "name": "stdout",
     "output_type": "stream",
     "text": [
      "               kp       sp_nh       tr_nh\n",
      "count  142.000000  142.000000  142.000000\n",
      "mean     0.003947    0.010024    0.001498\n",
      "std      0.048002    0.043974    0.024255\n",
      "min     -0.253154   -0.311138   -0.077119\n",
      "25%     -0.018382   -0.008560   -0.013048\n",
      "50%      0.008829    0.011847    0.000982\n",
      "75%      0.029922    0.036190    0.017702\n",
      "max      0.114954    0.156999    0.099083\n",
      "var      0.002304    0.001934    0.000588\n",
      "skew    -1.288145   -2.658845    0.336060\n",
      "kurt     5.819094   19.962178    1.864510\n"
     ]
    }
   ],
   "source": [
    "df=rmon\n",
    "stats = df.describe()\n",
    "stats.loc['var'] = df.var().tolist()\n",
    "stats.loc['skew'] = df.skew().tolist()\n",
    "stats.loc['kurt'] = df.kurtosis().tolist()\n",
    "print(stats)"
   ]
  },
  {
   "cell_type": "code",
   "execution_count": 48,
   "metadata": {
    "colab": {
     "base_uri": "https://localhost:8080/",
     "height": 288
    },
    "id": "zBhqNVNJ7sbG",
    "outputId": "8c33c607-fe81-4969-afaa-77bef6f2e7b5"
   },
   "outputs": [
    {
     "data": {
      "text/plain": [
       "<AxesSubplot:>"
      ]
     },
     "execution_count": 48,
     "metadata": {},
     "output_type": "execute_result"
    },
    {
     "data": {
      "image/png": "[encoded data removed]",
      "text/plain": [
       "<Figure size 432x288 with 2 Axes>"
      ]
     },
     "metadata": {
      "needs_background": "light"
     },
     "output_type": "display_data"
    }
   ],
   "source": [
    "sns.heatmap(rmon.corr(), annot = True, fmt='.2g', vmin=-1, vmax=1, center= 0, cmap= 'coolwarm')"
   ]
  },
  {
   "cell_type": "code",
   "execution_count": 49,
   "metadata": {
    "colab": {
     "base_uri": "https://localhost:8080/",
     "height": 568
    },
    "id": "QQcKW2nt7sfH",
    "outputId": "6cabf01e-9c33-4080-d4f2-36871cb09f75"
   },
   "outputs": [
    {
     "data": {
      "text/plain": [
       "<seaborn.axisgrid.PairGrid at 0x1cd578cb880>"
      ]
     },
     "execution_count": 49,
     "metadata": {},
     "output_type": "execute_result"
    },
    {
     "data": {
      "image/png": "[encoded data removed]",
      "text/plain": [
       "<Figure size 540x540 with 12 Axes>"
      ]
     },
     "metadata": {
      "needs_background": "light"
     },
     "output_type": "display_data"
    }
   ],
   "source": [
    "sns.pairplot(rmon)"
   ]
  },
  {
   "cell_type": "code",
   "execution_count": null,
   "metadata": {
    "id": "92WVL91-7siI"
   },
   "outputs": [],
   "source": []
  },
  {
   "cell_type": "code",
   "execution_count": 50,
   "metadata": {
    "colab": {
     "base_uri": "https://localhost:8080/"
    },
    "id": "iLG9cdsOtAlx",
    "outputId": "11b3da0a-a364-417c-abe1-c2719de1a786"
   },
   "outputs": [
    {
     "data": {
      "text/plain": [
       "array([0.5501206 , 0.276486  , 0.17339339])"
      ]
     },
     "execution_count": 50,
     "metadata": {},
     "output_type": "execute_result"
    }
   ],
   "source": [
    "# 공매도 금지 (w >=0)\n",
    "weights = np.random.random(noa) # uniform dist [0,1]\n",
    "weights /= np.sum(weights)\n",
    "weights"
   ]
  },
  {
   "cell_type": "code",
   "execution_count": 51,
   "metadata": {
    "colab": {
     "base_uri": "https://localhost:8080/"
    },
    "id": "ws3BamhH0KEx",
    "outputId": "53a6f894-facf-404f-98ff-9af9b3b64877"
   },
   "outputs": [
    {
     "data": {
      "text/plain": [
       "array([-0.44326144,  0.7217523 ,  0.72150914])"
      ]
     },
     "execution_count": 51,
     "metadata": {},
     "output_type": "execute_result"
    }
   ],
   "source": [
    "# 공매도 허용 (w< 0 가능) : 정규분포 ==> 너무 과도한 배분 \n",
    "weight_short = np.random.randn(noa) # 표준정규분포로부터 난수 생성\n",
    "weight_short /= np.sum(weight_short)\n",
    "weight_short"
   ]
  },
  {
   "cell_type": "code",
   "execution_count": 52,
   "metadata": {
    "colab": {
     "base_uri": "https://localhost:8080/"
    },
    "id": "7oU3NnQv2ANo",
    "outputId": "ed8f1c7b-9bd3-48a5-8b6e-677f4be44596"
   },
   "outputs": [
    {
     "data": {
      "text/plain": [
       "array([ 2.32670608, -3.5958371 ,  2.26913102])"
      ]
     },
     "execution_count": 52,
     "metadata": {},
     "output_type": "execute_result"
    }
   ],
   "source": [
    "# 공매도 허용 (w< 0 가능) : [-1, 1] uniform ==> 그런대로 OK!\n",
    "weight_short = np.random.uniform(low=-1, high=1, size=noa) # [-1, 1] uniform 난수 생성\n",
    "weight_short /= np.sum(weight_short)\n",
    "weight_short"
   ]
  },
  {
   "cell_type": "code",
   "execution_count": 53,
   "metadata": {
    "colab": {
     "base_uri": "https://localhost:8080/"
    },
    "id": "yV0sZCuB0KHl",
    "outputId": "87aa4c68-3a1a-43b5-cf54-5a37653f2adc"
   },
   "outputs": [
    {
     "data": {
      "text/plain": [
       "0.06242840008428813"
      ]
     },
     "execution_count": 53,
     "metadata": {},
     "output_type": "execute_result"
    }
   ],
   "source": [
    "# 기대 수익률\n",
    "np.sum(rmon.mean() * weights) * 12"
   ]
  },
  {
   "cell_type": "code",
   "execution_count": 54,
   "metadata": {
    "colab": {
     "base_uri": "https://localhost:8080/"
    },
    "id": "Nb34Hrr90KKd",
    "outputId": "0bf13a53-9a60-4af1-d05b-41fea6d68721"
   },
   "outputs": [
    {
     "data": {
      "text/plain": [
       "0.012888863886713706"
      ]
     },
     "execution_count": 54,
     "metadata": {},
     "output_type": "execute_result"
    }
   ],
   "source": [
    "# 기대 분산 (expected portfolio variance)\n",
    "np.dot(weights.T, np.dot(rmon.cov() * 12, weights))"
   ]
  },
  {
   "cell_type": "code",
   "execution_count": 55,
   "metadata": {
    "colab": {
     "base_uri": "https://localhost:8080/"
    },
    "id": "Ji7kJbRO4UrY",
    "outputId": "4d52abf6-c5d5-4c89-98d8-5d1c03f68add"
   },
   "outputs": [
    {
     "data": {
      "text/plain": [
       "0.11352913232608494"
      ]
     },
     "execution_count": 55,
     "metadata": {},
     "output_type": "execute_result"
    }
   ],
   "source": [
    "# 기대 변동성 (expected portfolio standard deviation/volatility)\n",
    "np.sqrt(np.dot(weights.T, np.dot(rmon.cov() * 12, weights)))"
   ]
  },
  {
   "cell_type": "code",
   "execution_count": 56,
   "metadata": {
    "id": "vMaoqm_P6jXM"
   },
   "outputs": [],
   "source": [
    "def gen_port(returns, iterations=1000):\n",
    "    pret = []\n",
    "    pstd = []\n",
    "    \n",
    "    for i in range(iterations):\n",
    "        weights = np.random.random(noa) # 공매도 금지\n",
    "#        weights= np.random.uniform(low=-1, high=1, size=noa) -1 #공매도 허용 [-1, 1] 난수\n",
    "        weights/=np.sum(weights)\n",
    "        pret.append(np.sum(returns.mean()*weights)*12)\n",
    "        pstd.append(np.sqrt(np.dot(weights.T,np.dot(returns.cov()*12,weights))))\n",
    "        \n",
    "    pret = np.array(pret)\n",
    "    pstd = np.array(pstd)\n",
    "    return pret, pstd "
   ]
  },
  {
   "cell_type": "code",
   "execution_count": 57,
   "metadata": {
    "id": "Y_ut8U1ZHltL"
   },
   "outputs": [],
   "source": [
    "def gen_port_short(returns, iterations=1000):\n",
    "    pret = []\n",
    "    pstd = []\n",
    "    \n",
    "    for i in range(iterations):\n",
    "#        weights = np.random.random(noa) # 공매도 금지\n",
    "        weights_short= np.random.uniform(low=-0.2, high=1, size=noa)  #공매도 허용 [-0.2, 1] 난수\n",
    "        weights_short/=np.sum(weights_short)\n",
    "        pret.append(np.sum(returns.mean()*weights_short)*12)\n",
    "        pstd.append(np.sqrt(np.dot(weights_short.T,np.dot(returns.cov()*12,weights_short))))\n",
    "        \n",
    "    pret = np.array(pret)\n",
    "    pstd = np.array(pstd)\n",
    "    return pret, pstd "
   ]
  },
  {
   "cell_type": "code",
   "execution_count": 58,
   "metadata": {
    "id": "oGU8d1vM9YQV"
   },
   "outputs": [],
   "source": [
    "def plot_port(returns, std):\n",
    "    plt.figure(figsize=(10,6))\n",
    "    plt.scatter(std,returns, c=returns/std,marker='o', cmap=mpl.cm.jet) # c= Sharpe Ratio <== r_f =0 가정\n",
    "    plt.grid(True)\n",
    "    plt.xlabel('Expected STD')\n",
    "    plt.ylabel(\"Expected Return\")\n",
    "    plt.colorbar(label='Sharpe Ratio')\n",
    "    plt.show()"
   ]
  },
  {
   "cell_type": "code",
   "execution_count": 59,
   "metadata": {
    "colab": {
     "base_uri": "https://localhost:8080/",
     "height": 388
    },
    "id": "GAiEgVgb86PP",
    "outputId": "b7ce982a-27bb-4066-dee4-a7a76a5ae8f3"
   },
   "outputs": [
    {
     "data": {
      "image/png": "[encoded data removed]",
      "text/plain": [
       "<Figure size 720x432 with 2 Axes>"
      ]
     },
     "metadata": {
      "needs_background": "light"
     },
     "output_type": "display_data"
    }
   ],
   "source": [
    "pret,pstd = gen_port(rmon, 10000)\n",
    "plot_port(pret, pstd)"
   ]
  },
  {
   "cell_type": "code",
   "execution_count": null,
   "metadata": {
    "id": "OAUrLXgzHkD9"
   },
   "outputs": [],
   "source": []
  },
  {
   "cell_type": "code",
   "execution_count": 60,
   "metadata": {
    "colab": {
     "base_uri": "https://localhost:8080/",
     "height": 388
    },
    "id": "8LXFIC4W_Jbi",
    "outputId": "8499143c-3052-4f8b-e4b2-9a9b482c1236"
   },
   "outputs": [
    {
     "data": {
      "image/png": "[encoded data removed]",
      "text/plain": [
       "<Figure size 720x432 with 2 Axes>"
      ]
     },
     "metadata": {
      "needs_background": "light"
     },
     "output_type": "display_data"
    }
   ],
   "source": [
    "pret_short,pstd_short = gen_port_short(rmon, 10000)\n",
    "plot_port(pret_short, pstd_short)"
   ]
  },
  {
   "cell_type": "markdown",
   "metadata": {
    "id": "iHW_KW9wdASW"
   },
   "source": [
    "### 포트폴리오 최적화"
   ]
  },
  {
   "cell_type": "code",
   "execution_count": 61,
   "metadata": {
    "id": "Fo7SvI8c_0SU"
   },
   "outputs": [],
   "source": [
    "def stat_port(weights, returns):\n",
    "    ''' Return portfolio statistics.\n",
    "    \n",
    "    Parameters\n",
    "    ==========\n",
    "    weights : array-like\n",
    "        weights for different securities in portfolio\n",
    "    \n",
    "    Returns\n",
    "    =======\n",
    "    pret : float\n",
    "        expected portfolio return\n",
    "    pstd : float\n",
    "        expected portfolio volatility\n",
    "    pret / pstd : float\n",
    "        Sharpe ratio for r_f=0 가정 \n",
    "    '''\n",
    "    weights = np.array(weights)\n",
    "    pret = np.sum(returns.mean() * weights) * 12\n",
    "    pstd = np.sqrt(np.dot(weights.T, np.dot(returns.cov() * 12, weights)))\n",
    "    return np.array([pret, pstd, pret / pstd])"
   ]
  },
  {
   "cell_type": "code",
   "execution_count": 62,
   "metadata": {
    "id": "rPDlPqLsNZfr"
   },
   "outputs": [],
   "source": [
    "def min_func_sharpe(weights, returns):\n",
    "    return -stat_port(weights, returns)[2]"
   ]
  },
  {
   "cell_type": "code",
   "execution_count": 63,
   "metadata": {
    "colab": {
     "base_uri": "https://localhost:8080/"
    },
    "id": "lhy3QZ0vX1kk",
    "outputId": "24f1cc62-e12f-4b30-a5dd-697085d51e2d"
   },
   "outputs": [
    {
     "data": {
      "text/plain": [
       "array([0.0624284 , 0.11352913, 0.54988882])"
      ]
     },
     "execution_count": 63,
     "metadata": {},
     "output_type": "execute_result"
    }
   ],
   "source": [
    "test1= stat_port(weights, rmon)\n",
    "test1"
   ]
  },
  {
   "cell_type": "code",
   "execution_count": 64,
   "metadata": {
    "colab": {
     "base_uri": "https://localhost:8080/"
    },
    "id": "Q9UvzbtTcprm",
    "outputId": "9bcc4a36-bc7f-4ba1-c8a3-c323ba952f52"
   },
   "outputs": [
    {
     "data": {
      "text/plain": [
       "0.5498888153657131"
      ]
     },
     "execution_count": 64,
     "metadata": {},
     "output_type": "execute_result"
    }
   ],
   "source": [
    "test2 = stat_port(weights, rmon)[2]\n",
    "test2"
   ]
  },
  {
   "cell_type": "code",
   "execution_count": 65,
   "metadata": {
    "colab": {
     "base_uri": "https://localhost:8080/"
    },
    "id": "fhAUTEZ9X1h3",
    "outputId": "cfbc9c68-62f2-4d22-a5c6-9155de00b6a1"
   },
   "outputs": [
    {
     "data": {
      "text/plain": [
       "-0.5498888153657131"
      ]
     },
     "execution_count": 65,
     "metadata": {},
     "output_type": "execute_result"
    }
   ],
   "source": [
    "test3= min_func_sharpe(weights, rmon)\n",
    "test3"
   ]
  },
  {
   "cell_type": "code",
   "execution_count": 66,
   "metadata": {
    "id": "mQolHc_wNZiw"
   },
   "outputs": [],
   "source": [
    "def optimize_portfolio(weights, returns):\n",
    "    constraints = ({'type':'eq','fun': lambda x: np.sum(x)-1}) #the sum of weights is 1\n",
    "    bounds = tuple((0,1) for x in range(noa)) \n",
    "    optimum=sco.minimize(fun=min_func_sharpe,x0=weights,args=returns,method='SLSQP',bounds=bounds,constraints=constraints) \n",
    "    return optimum \n",
    "    # min_func_sharpe (-Sharpe ratio) 최소화 ==> Sharpe ratio 최대화"
   ]
  },
  {
   "cell_type": "code",
   "execution_count": 67,
   "metadata": {
    "colab": {
     "base_uri": "https://localhost:8080/"
    },
    "id": "7Dzup1r6NZll",
    "outputId": "e93d450c-156b-4aa7-ca4e-835ba651972a"
   },
   "outputs": [
    {
     "data": {
      "text/plain": [
       "     fun: -0.8099549434400314\n",
       "     jac: array([ 0.02500558, -0.00010157,  0.00024245])\n",
       " message: 'Optimization terminated successfully'\n",
       "    nfev: 28\n",
       "     nit: 7\n",
       "    njev: 7\n",
       "  status: 0\n",
       " success: True\n",
       "       x: array([0.        , 0.70473597, 0.29526403])"
      ]
     },
     "execution_count": 67,
     "metadata": {},
     "output_type": "execute_result"
    }
   ],
   "source": [
    "opts=optimize_portfolio(weights,rmon)\n",
    "opts"
   ]
  },
  {
   "cell_type": "code",
   "execution_count": 68,
   "metadata": {
    "colab": {
     "base_uri": "https://localhost:8080/"
    },
    "id": "kOpw1p6neosJ",
    "outputId": "eec11aa1-9f3f-4966-dfb6-08c8805191d5"
   },
   "outputs": [
    {
     "data": {
      "text/plain": [
       "array([0.   , 0.705, 0.295])"
      ]
     },
     "execution_count": 68,
     "metadata": {},
     "output_type": "execute_result"
    }
   ],
   "source": [
    "#\"Optimal weights:\" \n",
    "opts['x'].round(3)"
   ]
  },
  {
   "cell_type": "code",
   "execution_count": 69,
   "metadata": {
    "colab": {
     "base_uri": "https://localhost:8080/"
    },
    "id": "uvIvYJULRLFB",
    "outputId": "bf0ede93-28a5-4649-b0e8-fc0c05c21434"
   },
   "outputs": [
    {
     "data": {
      "text/plain": [
       "array([0.09 , 0.111, 0.81 ])"
      ]
     },
     "execution_count": 69,
     "metadata": {},
     "output_type": "execute_result"
    }
   ],
   "source": [
    "# 최적: 평균, vol, Sharpe ratio \n",
    "stat_port(opts['x'], rmon).round(3) "
   ]
  },
  {
   "cell_type": "code",
   "execution_count": null,
   "metadata": {
    "id": "uGSsLYYkRLH_"
   },
   "outputs": [],
   "source": []
  },
  {
   "cell_type": "code",
   "execution_count": 70,
   "metadata": {
    "colab": {
     "base_uri": "https://localhost:8080/",
     "height": 279
    },
    "id": "jHuuiHzoHkUJ",
    "outputId": "dfc97bc9-0fec-4298-ae4a-810a6841a543"
   },
   "outputs": [
    {
     "data": {
      "image/png": "[encoded data removed]",
      "text/plain": [
       "<Figure size 432x288 with 2 Axes>"
      ]
     },
     "metadata": {
      "needs_background": "light"
     },
     "output_type": "display_data"
    }
   ],
   "source": [
    "plt.scatter(pstd, pret, c=pret/pstd, marker='o', cmap=mpl.cm.jet)\n",
    "plt.grid(True)\n",
    "plt.xlabel('expected std')\n",
    "plt.ylabel('expected return')\n",
    "plt.colorbar(label='Sharpe ratio')\n",
    "\n",
    "pt_opts = stat_port(opts['x'], rmon).round(3) \n",
    "plt.scatter(pt_opts[1], pt_opts[0], marker=\"*\", s=300, alpha=0.5)\n",
    "plt.show()"
   ]
  },
  {
   "cell_type": "code",
   "execution_count": null,
   "metadata": {
    "id": "xo7IPCcpHkZ5"
   },
   "outputs": [],
   "source": []
  },
  {
   "cell_type": "markdown",
   "metadata": {
    "id": "aGpc40TsarLr"
   },
   "source": [
    "### 최소분산 포트폴리오"
   ]
  },
  {
   "cell_type": "code",
   "execution_count": 71,
   "metadata": {
    "id": "30XhzJJYRLMd"
   },
   "outputs": [],
   "source": [
    "# 목적함수: 포트폴리오 분산\n",
    "def min_func_variance(weights, returns):\n",
    "    return stat_port(weights, returns)[1] ** 2 "
   ]
  },
  {
   "cell_type": "code",
   "execution_count": 72,
   "metadata": {
    "colab": {
     "base_uri": "https://localhost:8080/"
    },
    "id": "x3ozymPBbJl3",
    "outputId": "028811d9-b621-40ca-994d-af34e27c9297"
   },
   "outputs": [
    {
     "data": {
      "text/plain": [
       "array([0.0624284 , 0.11352913, 0.54988882])"
      ]
     },
     "execution_count": 72,
     "metadata": {},
     "output_type": "execute_result"
    }
   ],
   "source": [
    "test1=stat_port(weights, rmon) \n",
    "test1"
   ]
  },
  {
   "cell_type": "code",
   "execution_count": 73,
   "metadata": {
    "colab": {
     "base_uri": "https://localhost:8080/"
    },
    "id": "UXItg5kLbk7C",
    "outputId": "1b3e512b-54b6-439b-839d-44ca5ef9ede8"
   },
   "outputs": [
    {
     "data": {
      "text/plain": [
       "0.11352913232608494"
      ]
     },
     "execution_count": 73,
     "metadata": {},
     "output_type": "execute_result"
    }
   ],
   "source": [
    "test2=stat_port(weights, rmon)[1] \n",
    "test2"
   ]
  },
  {
   "cell_type": "code",
   "execution_count": 74,
   "metadata": {
    "colab": {
     "base_uri": "https://localhost:8080/"
    },
    "id": "PTonHTFnbJeJ",
    "outputId": "6d0adcd6-a363-4570-f4af-547c23419256"
   },
   "outputs": [
    {
     "data": {
      "text/plain": [
       "0.012888863886713705"
      ]
     },
     "execution_count": 74,
     "metadata": {},
     "output_type": "execute_result"
    }
   ],
   "source": [
    "test3=min_func_variance(weights, rmon)\n",
    "test3"
   ]
  },
  {
   "cell_type": "code",
   "execution_count": 75,
   "metadata": {
    "id": "uguA7FoxbJpb"
   },
   "outputs": [],
   "source": [
    "def minimize_variance(weights, returns):\n",
    "    constraints = ({'type':'eq','fun': lambda x: np.sum(x)-1}) #the sum of weights is 1\n",
    "    bounds = tuple((0,1) for x in range(noa)) \n",
    "    optimum=sco.minimize(fun=min_func_variance,x0=weights,args=returns,method='SLSQP',bounds=bounds,constraints=constraints) \n",
    "    return optimum \n",
    "    # min_func_variance (==> 분산) 최소화 ==> 분산 최소화 "
   ]
  },
  {
   "cell_type": "code",
   "execution_count": 76,
   "metadata": {
    "colab": {
     "base_uri": "https://localhost:8080/"
    },
    "id": "a2xAG9sGUfsp",
    "outputId": "489ef9f4-2ad7-454d-af2a-876d672c3e04"
   },
   "outputs": [
    {
     "data": {
      "text/plain": [
       "     fun: 0.0026983300825732044\n",
       "     jac: array([0.00538795, 0.00844193, 0.0054003 ])\n",
       " message: 'Optimization terminated successfully'\n",
       "    nfev: 32\n",
       "     nit: 8\n",
       "    njev: 8\n",
       "  status: 0\n",
       " success: True\n",
       "       x: array([2.94692331e-01, 5.63785130e-18, 7.05307669e-01])"
      ]
     },
     "execution_count": 76,
     "metadata": {},
     "output_type": "execute_result"
    }
   ],
   "source": [
    "optv =minimize_variance(weights, rmon) \n",
    "optv"
   ]
  },
  {
   "cell_type": "code",
   "execution_count": 77,
   "metadata": {
    "colab": {
     "base_uri": "https://localhost:8080/"
    },
    "id": "ZjSs944-UfvW",
    "outputId": "f1163ad5-6c4e-48ee-9df4-181a51d9c0cd"
   },
   "outputs": [
    {
     "data": {
      "text/plain": [
       "array([0.295, 0.   , 0.705])"
      ]
     },
     "execution_count": 77,
     "metadata": {},
     "output_type": "execute_result"
    }
   ],
   "source": [
    "#\"Optimal weights:\" \n",
    "optv['x'].round(3)"
   ]
  },
  {
   "cell_type": "code",
   "execution_count": 78,
   "metadata": {
    "colab": {
     "base_uri": "https://localhost:8080/"
    },
    "id": "IMw9RkdLUfye",
    "outputId": "873aa0b7-eef6-42d6-a01f-554c95cbd8a9"
   },
   "outputs": [
    {
     "data": {
      "text/plain": [
       "array([0.027, 0.052, 0.513])"
      ]
     },
     "execution_count": 78,
     "metadata": {},
     "output_type": "execute_result"
    }
   ],
   "source": [
    "# 최적: 평균, vol, Sharpe ratio \n",
    "stat_port(optv['x'], rmon).round(3)"
   ]
  },
  {
   "cell_type": "code",
   "execution_count": 79,
   "metadata": {
    "colab": {
     "base_uri": "https://localhost:8080/"
    },
    "id": "ZdRv4DefUf1N",
    "outputId": "42f4fb82-64a8-476a-cee4-23dafd8c5eef"
   },
   "outputs": [
    {
     "data": {
      "text/plain": [
       "array([0.02663187, 0.05194545, 0.51268913])"
      ]
     },
     "execution_count": 79,
     "metadata": {},
     "output_type": "execute_result"
    }
   ],
   "source": [
    "test0=stat_port(optv['x'], rmon)\n",
    "test0"
   ]
  },
  {
   "cell_type": "code",
   "execution_count": 80,
   "metadata": {
    "colab": {
     "base_uri": "https://localhost:8080/"
    },
    "id": "lBSuRYgIfEKL",
    "outputId": "e3fb7075-de0b-470c-a262-b2b712f77fd0"
   },
   "outputs": [
    {
     "data": {
      "text/plain": [
       "0.0026983300825732044"
      ]
     },
     "execution_count": 80,
     "metadata": {},
     "output_type": "execute_result"
    }
   ],
   "source": [
    "test1=stat_port(optv['x'], rmon)[1]**2\n",
    "test1"
   ]
  },
  {
   "cell_type": "code",
   "execution_count": null,
   "metadata": {
    "id": "xaNBaN34f0-m"
   },
   "outputs": [],
   "source": []
  },
  {
   "cell_type": "code",
   "execution_count": 81,
   "metadata": {
    "colab": {
     "base_uri": "https://localhost:8080/",
     "height": 279
    },
    "id": "qItScsBXKBlJ",
    "outputId": "937f5327-b493-43c2-c242-2a42bea8ff9c"
   },
   "outputs": [
    {
     "data": {
      "image/png": "[encoded data removed]",
      "text/plain": [
       "<Figure size 432x288 with 2 Axes>"
      ]
     },
     "metadata": {
      "needs_background": "light"
     },
     "output_type": "display_data"
    }
   ],
   "source": [
    "plt.scatter(pstd, pret, c=pret/pstd, marker='o', cmap=mpl.cm.jet)\n",
    "plt.grid(True)\n",
    "plt.xlabel('expected std')\n",
    "plt.ylabel('expected return')\n",
    "plt.colorbar(label='Sharpe ratio')\n",
    "\n",
    "pt_optv = stat_port(optv['x'], rmon).round(3) \n",
    "plt.scatter(pt_optv[1], pt_optv[0], marker=\"*\", s=300, alpha=0.5)\n",
    "plt.show()\n",
    "\n"
   ]
  },
  {
   "cell_type": "code",
   "execution_count": null,
   "metadata": {
    "id": "S_876WP1KBtt"
   },
   "outputs": [],
   "source": []
  },
  {
   "cell_type": "markdown",
   "metadata": {
    "id": "nXFZF6DthMcx"
   },
   "source": [
    "### Efficient Frontier"
   ]
  },
  {
   "cell_type": "code",
   "execution_count": 82,
   "metadata": {
    "id": "VE-bDCk-hOkS"
   },
   "outputs": [],
   "source": [
    "cons = ({'type': 'eq', 'fun': lambda x:  stat_port(x,rmon)[0] - tret},\n",
    "        {'type': 'eq', 'fun': lambda x:  np.sum(x) - 1})\n",
    "bnds = tuple((0, 1) for x in weights)"
   ]
  },
  {
   "cell_type": "code",
   "execution_count": 83,
   "metadata": {
    "id": "8lSNzOhPhPs5"
   },
   "outputs": [],
   "source": [
    "# 포트폴리오의 변동성\n",
    "def min_func_port(weights):\n",
    "    return stat_port(weights, rmon)[1]"
   ]
  },
  {
   "cell_type": "code",
   "execution_count": 84,
   "metadata": {
    "colab": {
     "base_uri": "https://localhost:8080/"
    },
    "id": "PfDXYsMhjf_s",
    "outputId": "e6712a65-0eeb-4765-ea61-51aece53444d"
   },
   "outputs": [
    {
     "data": {
      "text/plain": [
       "array([0.0624284 , 0.11352913, 0.54988882])"
      ]
     },
     "execution_count": 84,
     "metadata": {},
     "output_type": "execute_result"
    }
   ],
   "source": [
    "test0=stat_port(weights, rmon)\n",
    "test0"
   ]
  },
  {
   "cell_type": "code",
   "execution_count": 85,
   "metadata": {
    "colab": {
     "base_uri": "https://localhost:8080/"
    },
    "id": "IaZaxR6-i6R4",
    "outputId": "8cb8f6f2-e3c1-478a-e682-b00b85939699"
   },
   "outputs": [
    {
     "data": {
      "text/plain": [
       "0.11352913232608494"
      ]
     },
     "execution_count": 85,
     "metadata": {},
     "output_type": "execute_result"
    }
   ],
   "source": [
    "test = min_func_port(weights)\n",
    "test"
   ]
  },
  {
   "cell_type": "code",
   "execution_count": 86,
   "metadata": {
    "colab": {
     "base_uri": "https://localhost:8080/"
    },
    "id": "8wOgl0IKhPwI",
    "outputId": "32a7c620-fab1-4d1c-b8c1-6cc194776e8b"
   },
   "outputs": [
    {
     "name": "stdout",
     "output_type": "stream",
     "text": [
      "Wall time: 2.53 s\n"
     ]
    }
   ],
   "source": [
    "%%time\n",
    "trets = np.linspace(min(pret), max(pret), 50)\n",
    "tvols = []\n",
    "for tret in trets:\n",
    "    cons = ({'type': 'eq', 'fun': lambda x:  stat_port(x, rmon)[0] - tret},\n",
    "            {'type': 'eq', 'fun': lambda x:  np.sum(x) - 1})\n",
    "    res = sco.minimize(min_func_port, noa * [1. / noa,], method='SLSQP',\n",
    "                       bounds=bnds, constraints=cons)\n",
    "    tvols.append(res['fun'])\n",
    "tvols = np.array(tvols)"
   ]
  },
  {
   "cell_type": "code",
   "execution_count": 87,
   "metadata": {
    "colab": {
     "base_uri": "https://localhost:8080/"
    },
    "id": "fu4CgemGnY9a",
    "outputId": "41dc813f-e205-47e9-e8c3-51f83983e8e7"
   },
   "outputs": [
    {
     "data": {
      "text/plain": [
       "array([0.07923485, 0.0682331 , 0.05932434, 0.05356328, 0.05200672,\n",
       "       0.05277181, 0.05367187, 0.05469985, 0.05584868, 0.05711107,\n",
       "       0.05847967, 0.05994721, 0.0615066 , 0.06315104, 0.06487406,\n",
       "       0.06666957, 0.06853188, 0.07045568, 0.07243607, 0.07446855,\n",
       "       0.07654895, 0.07867349, 0.08083869, 0.08304136, 0.0852786 ,\n",
       "       0.08754777, 0.08984643, 0.09217238, 0.0945236 , 0.09689827,\n",
       "       0.09929469, 0.10171133, 0.10414674, 0.10659967, 0.10906935,\n",
       "       0.11157635, 0.11413041, 0.11672843, 0.11936756, 0.12204511,\n",
       "       0.12475862, 0.1275058 , 0.1302845 , 0.13309276, 0.13592875,\n",
       "       0.13879076, 0.14167723, 0.14458667, 0.14751774, 0.15046917])"
      ]
     },
     "execution_count": 87,
     "metadata": {},
     "output_type": "execute_result"
    }
   ],
   "source": [
    "tvols"
   ]
  },
  {
   "cell_type": "code",
   "execution_count": 88,
   "metadata": {
    "id": "LGR5Ft33nZE-"
   },
   "outputs": [],
   "source": [
    "def efficient_variance(weights, returns):\n",
    "\n",
    "    trets = np.linspace(min(pret), max(pret), 50)\n",
    "    tvols = []\n",
    "    for tret in trets:\n",
    "      cons = ({'type': 'eq', 'fun': lambda x:  stat_port(x, returns)[0] - tret},\n",
    "              {'type': 'eq', 'fun': lambda x:  np.sum(x) - 1})\n",
    "      res = sco.minimize(min_func_port, noa * [1. / noa,], method='SLSQP',\n",
    "                       bounds=bnds, constraints=cons)\n",
    "#      tvols.append(res['fun'])\n",
    "      tvols = np.array(tvols)\n",
    "    return tvols"
   ]
  },
  {
   "cell_type": "code",
   "execution_count": 89,
   "metadata": {
    "colab": {
     "base_uri": "https://localhost:8080/"
    },
    "id": "fiF3tRtcnZGm",
    "outputId": "5c2ed725-8b44-4324-a585-587b2e0b39be"
   },
   "outputs": [
    {
     "data": {
      "text/plain": [
       "array([], dtype=float64)"
      ]
     },
     "execution_count": 89,
     "metadata": {},
     "output_type": "execute_result"
    }
   ],
   "source": [
    "efficient_variance(weights, rmon)"
   ]
  },
  {
   "cell_type": "code",
   "execution_count": 90,
   "metadata": {
    "colab": {
     "base_uri": "https://localhost:8080/"
    },
    "id": "yfGYrV7NnZMr",
    "outputId": "0ec21cee-caa0-4812-a292-f90032387761"
   },
   "outputs": [
    {
     "data": {
      "text/plain": [
       "array([0.07923485, 0.0682331 , 0.05932434, 0.05356328, 0.05200672,\n",
       "       0.05277181, 0.05367187, 0.05469985, 0.05584868, 0.05711107,\n",
       "       0.05847967, 0.05994721, 0.0615066 , 0.06315104, 0.06487406,\n",
       "       0.06666957, 0.06853188, 0.07045568, 0.07243607, 0.07446855,\n",
       "       0.07654895, 0.07867349, 0.08083869, 0.08304136, 0.0852786 ,\n",
       "       0.08754777, 0.08984643, 0.09217238, 0.0945236 , 0.09689827,\n",
       "       0.09929469, 0.10171133, 0.10414674, 0.10659967, 0.10906935,\n",
       "       0.11157635, 0.11413041, 0.11672843, 0.11936756, 0.12204511,\n",
       "       0.12475862, 0.1275058 , 0.1302845 , 0.13309276, 0.13592875,\n",
       "       0.13879076, 0.14167723, 0.14458667, 0.14751774, 0.15046917])"
      ]
     },
     "execution_count": 90,
     "metadata": {},
     "output_type": "execute_result"
    }
   ],
   "source": [
    "tvols"
   ]
  },
  {
   "cell_type": "code",
   "execution_count": 91,
   "metadata": {
    "colab": {
     "base_uri": "https://localhost:8080/",
     "height": 297
    },
    "id": "UE0SlPMihPyx",
    "outputId": "8f777995-99f4-4706-c5ed-dba077486255"
   },
   "outputs": [
    {
     "data": {
      "text/plain": [
       "<matplotlib.colorbar.Colorbar at 0x1cd5a0a2c40>"
      ]
     },
     "execution_count": 91,
     "metadata": {},
     "output_type": "execute_result"
    },
    {
     "data": {
      "image/png": "[encoded data removed]",
      "text/plain": [
       "<Figure size 576x288 with 2 Axes>"
      ]
     },
     "metadata": {
      "needs_background": "light"
     },
     "output_type": "display_data"
    }
   ],
   "source": [
    "plt.figure(figsize=(8, 4))\n",
    "plt.scatter(pstd, pret,\n",
    "            c=pret / pstd, marker='o')\n",
    "            # random portfolio composition\n",
    "plt.scatter(tvols, trets,\n",
    "            c=trets / tvols, marker='x')\n",
    "            # efficient frontier\n",
    "plt.plot(stat_port(opts['x'],rmon)[1], stat_port(opts['x'],rmon)[0],\n",
    "         'r*', markersize=15.0)\n",
    "            # portfolio with highest Sharpe ratio\n",
    "plt.plot(stat_port(optv['x'],rmon)[1], stat_port(optv['x'],rmon)[0],\n",
    "         'y*', markersize=15.0)\n",
    "            # minimum variance portfolio\n",
    "plt.grid(True)\n",
    "plt.xlabel('expected volatility')\n",
    "plt.ylabel('expected return')\n",
    "plt.colorbar(label='Sharpe ratio')"
   ]
  },
  {
   "cell_type": "code",
   "execution_count": null,
   "metadata": {
    "id": "uUXpNcrAhP1a"
   },
   "outputs": [],
   "source": [
    "\n"
   ]
  },
  {
   "cell_type": "markdown",
   "metadata": {
    "id": "rR2uGV3h27De"
   },
   "source": [
    "## Utility Function"
   ]
  },
  {
   "cell_type": "markdown",
   "metadata": {
    "id": "pI1O__cA3BUJ"
   },
   "source": [
    "$$U = E(r_c)-0.5A\\sigma_c^2$$"
   ]
  },
  {
   "cell_type": "markdown",
   "metadata": {
    "id": "KwTHfjOV3RvZ"
   },
   "source": [
    "## Capital Allocation Line"
   ]
  },
  {
   "cell_type": "markdown",
   "metadata": {
    "id": "yzwhJHfr3HVI"
   },
   "source": [
    "$$E(r_c) = r_f + \\frac{E(r_p)-r_f}{\\sigma_p}\\sigma_c$$\n",
    "\n",
    "$p$ is the risky portfolio, $f$ is riskless portfolio, and $c$ is a combination of portfolios $p$ and $f$."
   ]
  },
  {
   "cell_type": "code",
   "execution_count": 92,
   "metadata": {
    "id": "L7Zq9_Co3Jqe"
   },
   "outputs": [],
   "source": [
    "cal_x = []\n",
    "cal_y = []\n",
    "utility = []\n",
    "a = 10\n",
    "rf = 0.0\n",
    "\n",
    "for er in np.linspace(rf, max(pret), 500):\n",
    "    sd = (er - rf)/((stat_port(opts['x'],rmon)[0]-rf)/stat_port(opts['x'],rmon)[1])\n",
    "    u = er - .5*a*(sd**2)\n",
    "    cal_x.append(sd)\n",
    "    cal_y.append(er)\n",
    "    utility.append(u)"
   ]
  },
  {
   "cell_type": "code",
   "execution_count": 93,
   "metadata": {
    "colab": {
     "base_uri": "https://localhost:8080/",
     "height": 204
    },
    "id": "4Jzpvpot47Pn",
    "outputId": "1a4b60ee-07a2-4d14-8320-98f20e3cd7fc"
   },
   "outputs": [
    {
     "data": {
      "text/html": [
       "<div>\n",
       "<style scoped>\n",
       "    .dataframe tbody tr th:only-of-type {\n",
       "        vertical-align: middle;\n",
       "    }\n",
       "\n",
       "    .dataframe tbody tr th {\n",
       "        vertical-align: top;\n",
       "    }\n",
       "\n",
       "    .dataframe thead th {\n",
       "        text-align: right;\n",
       "    }\n",
       "</style>\n",
       "<table border=\"1\" class=\"dataframe\">\n",
       "  <thead>\n",
       "    <tr style=\"text-align: right;\">\n",
       "      <th></th>\n",
       "      <th>utility</th>\n",
       "      <th>cal_y</th>\n",
       "      <th>cal_x</th>\n",
       "    </tr>\n",
       "  </thead>\n",
       "  <tbody>\n",
       "    <tr>\n",
       "      <th>0</th>\n",
       "      <td>0.000000</td>\n",
       "      <td>0.000000</td>\n",
       "      <td>0.000000</td>\n",
       "    </tr>\n",
       "    <tr>\n",
       "      <th>1</th>\n",
       "      <td>0.000238</td>\n",
       "      <td>0.000238</td>\n",
       "      <td>0.000294</td>\n",
       "    </tr>\n",
       "    <tr>\n",
       "      <th>2</th>\n",
       "      <td>0.000475</td>\n",
       "      <td>0.000477</td>\n",
       "      <td>0.000589</td>\n",
       "    </tr>\n",
       "    <tr>\n",
       "      <th>3</th>\n",
       "      <td>0.000712</td>\n",
       "      <td>0.000715</td>\n",
       "      <td>0.000883</td>\n",
       "    </tr>\n",
       "    <tr>\n",
       "      <th>4</th>\n",
       "      <td>0.000947</td>\n",
       "      <td>0.000954</td>\n",
       "      <td>0.001178</td>\n",
       "    </tr>\n",
       "  </tbody>\n",
       "</table>\n",
       "</div>"
      ],
      "text/plain": [
       "    utility     cal_y     cal_x\n",
       "0  0.000000  0.000000  0.000000\n",
       "1  0.000238  0.000238  0.000294\n",
       "2  0.000475  0.000477  0.000589\n",
       "3  0.000712  0.000715  0.000883\n",
       "4  0.000947  0.000954  0.001178"
      ]
     },
     "execution_count": 93,
     "metadata": {},
     "output_type": "execute_result"
    }
   ],
   "source": [
    "dt2 = ({'utility':utility, 'cal_y':cal_y, 'cal_x':cal_x})\n",
    "cal = pd.DataFrame(dt2)\n",
    "#cal = np.array([utility, cal_x, cal_y])\n",
    "cal.head()\n"
   ]
  },
  {
   "cell_type": "code",
   "execution_count": 94,
   "metadata": {
    "colab": {
     "base_uri": "https://localhost:8080/",
     "height": 523
    },
    "id": "vu1q3FMx7aoe",
    "outputId": "f38a35d2-4bab-40d2-fe4a-0b8dc532ce32"
   },
   "outputs": [
    {
     "data": {
      "text/plain": [
       "[<matplotlib.lines.Line2D at 0x1cd5a085a90>]"
      ]
     },
     "execution_count": 94,
     "metadata": {},
     "output_type": "execute_result"
    },
    {
     "data": {
      "image/png": "[encoded data removed]",
      "text/plain": [
       "<Figure size 1440x720 with 1 Axes>"
      ]
     },
     "metadata": {
      "needs_background": "light"
     },
     "output_type": "display_data"
    }
   ],
   "source": [
    "plt.subplots(figsize=(20,10))\n",
    "#plt.scatter(portfolios['Volatility'], portfolios['Returns'])\n",
    "plt.scatter(pstd, pret)\n",
    "\n",
    "#plt.scatter(min_var_port[1], min_var_port[0], color='y')\n",
    "plt.scatter(stat_port(optv['x'],rmon)[1], stat_port(optv['x'],rmon)[0], color='y', s=300)\n",
    "\n",
    "\n",
    "#plt.scatter(optimal_risky_port[1], optimal_risky_port[0], color='g')\n",
    "plt.scatter(stat_port(opts['x'],rmon)[1], stat_port(opts['x'],rmon)[0], color='r', s=300)\n",
    "\n",
    "plt.plot(cal_x, cal_y, color='r',linewidth=7.0)"
   ]
  },
  {
   "cell_type": "code",
   "execution_count": null,
   "metadata": {
    "id": "yVc27r5D8NzP"
   },
   "outputs": [],
   "source": []
  },
  {
   "cell_type": "markdown",
   "metadata": {
    "id": "c65M4_zm8bBO"
   },
   "source": [
    "#Investor's Optimal Portfolio"
   ]
  },
  {
   "cell_type": "code",
   "execution_count": 95,
   "metadata": {
    "colab": {
     "base_uri": "https://localhost:8080/"
    },
    "id": "qGpYpizN8bpm",
    "outputId": "189be042-808d-4e95-d23a-8feac79b68cf"
   },
   "outputs": [
    {
     "data": {
      "text/plain": [
       "275"
      ]
     },
     "execution_count": 95,
     "metadata": {},
     "output_type": "execute_result"
    }
   ],
   "source": [
    "cal['utility'].idxmax()"
   ]
  },
  {
   "cell_type": "code",
   "execution_count": 96,
   "metadata": {
    "colab": {
     "base_uri": "https://localhost:8080/"
    },
    "id": "G-HmtzoxC60q",
    "outputId": "9ea9ff61-7010-4414-8ba4-18ec2fa40bad"
   },
   "outputs": [
    {
     "data": {
      "text/plain": [
       "0    0.000000\n",
       "1    0.000238\n",
       "2    0.000475\n",
       "3    0.000712\n",
       "4    0.000947\n",
       "Name: utility, dtype: float64"
      ]
     },
     "execution_count": 96,
     "metadata": {},
     "output_type": "execute_result"
    }
   ],
   "source": [
    "cal['utility'].head()"
   ]
  },
  {
   "cell_type": "code",
   "execution_count": 97,
   "metadata": {
    "colab": {
     "base_uri": "https://localhost:8080/"
    },
    "id": "ecfwm32x8fyS",
    "outputId": "73c6cbed-ccc8-4383-bc17-602828b509a6"
   },
   "outputs": [
    {
     "data": {
      "text/plain": [
       "utility    0.032801\n",
       "cal_y      0.065584\n",
       "cal_x      0.080973\n",
       "Name: 275, dtype: float64"
      ]
     },
     "execution_count": 97,
     "metadata": {},
     "output_type": "execute_result"
    }
   ],
   "source": [
    "investors_port = cal.iloc[cal['utility'].idxmax()]\n",
    "investors_port"
   ]
  },
  {
   "cell_type": "markdown",
   "metadata": {
    "id": "Ja-tqh8DNDaM"
   },
   "source": [
    "### Complete portfolio (위험자산+무위험자산) 에서 위험자산 구성 비중\n",
    "- $ E(r_c) = (1 - w_{risky}) r_f  +  w_{risky} E(r_p)$\n",
    "- $ w_{risky}=\\frac{E(r_c) - r_f}{E(r_p)-r_f}$"
   ]
  },
  {
   "cell_type": "code",
   "execution_count": 98,
   "metadata": {
    "colab": {
     "base_uri": "https://localhost:8080/"
    },
    "id": "N7wLvazKLvh3",
    "outputId": "458aa858-8d8c-4ad9-a12f-5040856dd02f"
   },
   "outputs": [
    {
     "name": "stdout",
     "output_type": "stream",
     "text": [
      "위험자산 투자 비중   : 0.73\n",
      "무위험자산 투자 비중 : 0.27\n"
     ]
    }
   ],
   "source": [
    "# 1단계 CAL 상의 무위험 자산 및 위험자산 투자 비중 (1)\n",
    "\n",
    "w_risky = (investors_port['cal_y']- rf )/(stat_port(opts['x'],rmon)[0]-rf) \n",
    "w_rf = 1-w_risky\n",
    "print('위험자산 투자 비중   : %3.2f' %w_risky)\n",
    "print('무위험자산 투자 비중 : %3.2f' %w_rf)"
   ]
  },
  {
   "cell_type": "code",
   "execution_count": 99,
   "metadata": {
    "colab": {
     "base_uri": "https://localhost:8080/"
    },
    "id": "dcZQD7Z9Lvp0",
    "outputId": "99f770a2-b9cd-4a62-e962-403002aed8e8"
   },
   "outputs": [
    {
     "data": {
      "text/plain": [
       "array([0.   , 0.705, 0.295])"
      ]
     },
     "execution_count": 99,
     "metadata": {},
     "output_type": "execute_result"
    }
   ],
   "source": [
    "# 위험자산의 투자비중 \n",
    "\n",
    "opts['x'].round(3)"
   ]
  },
  {
   "cell_type": "code",
   "execution_count": 100,
   "metadata": {
    "colab": {
     "base_uri": "https://localhost:8080/"
    },
    "id": "nZ2aOJP2UmWV",
    "outputId": "1833b349-1e32-45cc-e304-0106530eb089"
   },
   "outputs": [
    {
     "name": "stdout",
     "output_type": "stream",
     "text": [
      "최종 위험자산 투자 비중 : \n",
      "[0.    0.513 0.215]\n",
      "최종 무위험자산 투자 비중 : 0.272\n"
     ]
    }
   ],
   "source": [
    "# 최종적인 무위험자산 및 위험자산 투자 비중 (2)\n",
    "w_risky_final =w_risky *opts['x'] \n",
    "\n",
    "print('최종 위험자산 투자 비중 : ' )\n",
    "print ( w_risky_final[:].round(3) )\n",
    "print('최종 무위험자산 투자 비중 : %2.3f' %w_rf)"
   ]
  },
  {
   "cell_type": "code",
   "execution_count": 101,
   "metadata": {
    "colab": {
     "base_uri": "https://localhost:8080/",
     "height": 523
    },
    "id": "V7bBsP778f03",
    "outputId": "f1b59a78-8cdf-433f-ee71-ba0fdf80af62"
   },
   "outputs": [
    {
     "data": {
      "text/plain": [
       "[<matplotlib.lines.Line2D at 0x1cd59f7bfa0>]"
      ]
     },
     "execution_count": 101,
     "metadata": {},
     "output_type": "execute_result"
    },
    {
     "data": {
      "image/png": "[encoded data removed]",
      "text/plain": [
       "<Figure size 1440x720 with 1 Axes>"
      ]
     },
     "metadata": {
      "needs_background": "light"
     },
     "output_type": "display_data"
    }
   ],
   "source": [
    "plt.subplots(figsize=(20,10))\n",
    "#plt.scatter(portfolios['Volatility'], portfolios['Returns'])\n",
    "plt.scatter(pstd, pret)\n",
    "\n",
    "#plt.scatter(min_var_port[1], min_var_port[0], color='y')\n",
    "plt.scatter(stat_port(optv['x'],rmon)[1], stat_port(optv['x'],rmon)[0], color='y', s=300)\n",
    "\n",
    "\n",
    "#plt.scatter(optimal_risky_port[1], optimal_risky_port[0], color='g')\n",
    "plt.scatter(stat_port(opts['x'],rmon)[1], stat_port(opts['x'],rmon)[0], color='r', s=300)\n",
    "\n",
    "plt.plot(cal_x, cal_y, color='r',linewidth=7.0)\n",
    "\n",
    "plt.plot(investors_port[2], investors_port[1], 'o', color='b',markersize=15)\n"
   ]
  },
  {
   "cell_type": "code",
   "execution_count": null,
   "metadata": {
    "id": "yvaQVfhl8f3c"
   },
   "outputs": [],
   "source": []
  },
  {
   "cell_type": "code",
   "execution_count": null,
   "metadata": {
    "id": "dQun7p568f6H"
   },
   "outputs": [],
   "source": []
  },
  {
   "cell_type": "code",
   "execution_count": null,
   "metadata": {
    "id": "i-TjKzo98f8s"
   },
   "outputs": [],
   "source": []
  }
 ],
 "metadata": {
  "colab": {
   "collapsed_sections": [],
   "name": "강의_자산배분4.ipynb",
   "provenance": []
  },
  "kernelspec": {
   "display_name": "Python 3",
   "language": "python",
   "name": "python3"
  },
  "language_info": {
   "codemirror_mode": {
    "name": "ipython",
    "version": 3
   },
   "file_extension": ".py",
   "mimetype": "text/x-python",
   "name": "python",
   "nbconvert_exporter": "python",
   "pygments_lexer": "ipython3",
   "version": "3.8.8"
  }
 },
 "nbformat": 4,
 "nbformat_minor": 1
}
